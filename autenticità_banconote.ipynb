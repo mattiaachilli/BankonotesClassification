{
 "cells": [
  {
   "cell_type": "markdown",
   "metadata": {},
   "source": [
    "# Progetto di Programmazione di Applicazioni Data Intensive\n",
    "#### Achilli Mattia \n",
    "#### Matricola: 0000847610 "
   ]
  },
  {
   "cell_type": "markdown",
   "metadata": {},
   "source": [
    "## Caso di studio: Classificazione di banconote"
   ]
  },
  {
   "cell_type": "markdown",
   "metadata": {},
   "source": [
    "- Dato un Dataset contente diverse istanze di valori di banconote prese da immagini si vuole classificare la banconota in autentica o meno\n",
    "- Per la digitalizzazione delle banconote è stata utilizzata una fotocamera industriale normalmente utilizzata per l'ispezione delle banconote\n",
    "- E' stato utilizzato uno strumento di trasformazione Wavelet per estrarre le features dalle immagini"
   ]
  },
  {
   "cell_type": "markdown",
   "metadata": {},
   "source": [
    "## Comprensione dei dati"
   ]
  },
  {
   "cell_type": "markdown",
   "metadata": {},
   "source": [
    "- Per prima cosa carico le principali librerie utilizzate "
   ]
  },
  {
   "cell_type": "code",
   "execution_count": 1,
   "metadata": {},
   "outputs": [],
   "source": [
    "%matplotlib inline\n",
    "import numpy as np\n",
    "import pandas as pd\n",
    "import matplotlib.pyplot as plt\n",
    "import sklearn"
   ]
  },
  {
   "cell_type": "markdown",
   "metadata": {},
   "source": [
    "- Scarico il Dataset e lo importo attraverso read_csv di pandas, i dati tra le colonne sono separati con la virgola"
   ]
  },
  {
   "cell_type": "code",
   "execution_count": 2,
   "metadata": {},
   "outputs": [],
   "source": [
    "URL = \"https://archive.ics.uci.edu/ml/machine-learning-databases/00267/data_banknote_authentication.txt\"\n",
    "data = pd.read_csv(URL, header=None, sep = \",\")"
   ]
  },
  {
   "cell_type": "markdown",
   "metadata": {},
   "source": [
    "- Come si può notare il dataset iniziale non ha i nomi delle colonne, dovremmo inserirle manualmente"
   ]
  },
  {
   "cell_type": "code",
   "execution_count": 3,
   "metadata": {},
   "outputs": [
    {
     "data": {
      "text/html": [
       "<div>\n",
       "<style scoped>\n",
       "    .dataframe tbody tr th:only-of-type {\n",
       "        vertical-align: middle;\n",
       "    }\n",
       "\n",
       "    .dataframe tbody tr th {\n",
       "        vertical-align: top;\n",
       "    }\n",
       "\n",
       "    .dataframe thead th {\n",
       "        text-align: right;\n",
       "    }\n",
       "</style>\n",
       "<table border=\"1\" class=\"dataframe\">\n",
       "  <thead>\n",
       "    <tr style=\"text-align: right;\">\n",
       "      <th></th>\n",
       "      <th>0</th>\n",
       "      <th>1</th>\n",
       "      <th>2</th>\n",
       "      <th>3</th>\n",
       "      <th>4</th>\n",
       "    </tr>\n",
       "  </thead>\n",
       "  <tbody>\n",
       "    <tr>\n",
       "      <th>0</th>\n",
       "      <td>3.62160</td>\n",
       "      <td>8.6661</td>\n",
       "      <td>-2.8073</td>\n",
       "      <td>-0.44699</td>\n",
       "      <td>0</td>\n",
       "    </tr>\n",
       "    <tr>\n",
       "      <th>1</th>\n",
       "      <td>4.54590</td>\n",
       "      <td>8.1674</td>\n",
       "      <td>-2.4586</td>\n",
       "      <td>-1.46210</td>\n",
       "      <td>0</td>\n",
       "    </tr>\n",
       "    <tr>\n",
       "      <th>2</th>\n",
       "      <td>3.86600</td>\n",
       "      <td>-2.6383</td>\n",
       "      <td>1.9242</td>\n",
       "      <td>0.10645</td>\n",
       "      <td>0</td>\n",
       "    </tr>\n",
       "    <tr>\n",
       "      <th>3</th>\n",
       "      <td>3.45660</td>\n",
       "      <td>9.5228</td>\n",
       "      <td>-4.0112</td>\n",
       "      <td>-3.59440</td>\n",
       "      <td>0</td>\n",
       "    </tr>\n",
       "    <tr>\n",
       "      <th>4</th>\n",
       "      <td>0.32924</td>\n",
       "      <td>-4.4552</td>\n",
       "      <td>4.5718</td>\n",
       "      <td>-0.98880</td>\n",
       "      <td>0</td>\n",
       "    </tr>\n",
       "  </tbody>\n",
       "</table>\n",
       "</div>"
      ],
      "text/plain": [
       "         0       1       2        3  4\n",
       "0  3.62160  8.6661 -2.8073 -0.44699  0\n",
       "1  4.54590  8.1674 -2.4586 -1.46210  0\n",
       "2  3.86600 -2.6383  1.9242  0.10645  0\n",
       "3  3.45660  9.5228 -4.0112 -3.59440  0\n",
       "4  0.32924 -4.4552  4.5718 -0.98880  0"
      ]
     },
     "execution_count": 3,
     "metadata": {},
     "output_type": "execute_result"
    }
   ],
   "source": [
    "data.head(5)"
   ]
  },
  {
   "cell_type": "code",
   "execution_count": 4,
   "metadata": {},
   "outputs": [
    {
     "data": {
      "text/html": [
       "<div>\n",
       "<style scoped>\n",
       "    .dataframe tbody tr th:only-of-type {\n",
       "        vertical-align: middle;\n",
       "    }\n",
       "\n",
       "    .dataframe tbody tr th {\n",
       "        vertical-align: top;\n",
       "    }\n",
       "\n",
       "    .dataframe thead th {\n",
       "        text-align: right;\n",
       "    }\n",
       "</style>\n",
       "<table border=\"1\" class=\"dataframe\">\n",
       "  <thead>\n",
       "    <tr style=\"text-align: right;\">\n",
       "      <th></th>\n",
       "      <th>0</th>\n",
       "      <th>1</th>\n",
       "      <th>2</th>\n",
       "      <th>3</th>\n",
       "      <th>4</th>\n",
       "    </tr>\n",
       "  </thead>\n",
       "  <tbody>\n",
       "    <tr>\n",
       "      <th>1367</th>\n",
       "      <td>0.40614</td>\n",
       "      <td>1.34920</td>\n",
       "      <td>-1.4501</td>\n",
       "      <td>-0.55949</td>\n",
       "      <td>1</td>\n",
       "    </tr>\n",
       "    <tr>\n",
       "      <th>1368</th>\n",
       "      <td>-1.38870</td>\n",
       "      <td>-4.87730</td>\n",
       "      <td>6.4774</td>\n",
       "      <td>0.34179</td>\n",
       "      <td>1</td>\n",
       "    </tr>\n",
       "    <tr>\n",
       "      <th>1369</th>\n",
       "      <td>-3.75030</td>\n",
       "      <td>-13.45860</td>\n",
       "      <td>17.5932</td>\n",
       "      <td>-2.77710</td>\n",
       "      <td>1</td>\n",
       "    </tr>\n",
       "    <tr>\n",
       "      <th>1370</th>\n",
       "      <td>-3.56370</td>\n",
       "      <td>-8.38270</td>\n",
       "      <td>12.3930</td>\n",
       "      <td>-1.28230</td>\n",
       "      <td>1</td>\n",
       "    </tr>\n",
       "    <tr>\n",
       "      <th>1371</th>\n",
       "      <td>-2.54190</td>\n",
       "      <td>-0.65804</td>\n",
       "      <td>2.6842</td>\n",
       "      <td>1.19520</td>\n",
       "      <td>1</td>\n",
       "    </tr>\n",
       "  </tbody>\n",
       "</table>\n",
       "</div>"
      ],
      "text/plain": [
       "            0         1        2        3  4\n",
       "1367  0.40614   1.34920  -1.4501 -0.55949  1\n",
       "1368 -1.38870  -4.87730   6.4774  0.34179  1\n",
       "1369 -3.75030 -13.45860  17.5932 -2.77710  1\n",
       "1370 -3.56370  -8.38270  12.3930 -1.28230  1\n",
       "1371 -2.54190  -0.65804   2.6842  1.19520  1"
      ]
     },
     "execution_count": 4,
     "metadata": {},
     "output_type": "execute_result"
    }
   ],
   "source": [
    "data.tail(5)"
   ]
  },
  {
   "cell_type": "markdown",
   "metadata": {},
   "source": [
    "- Assegno il nome delle colonne"
   ]
  },
  {
   "cell_type": "code",
   "execution_count": 5,
   "metadata": {},
   "outputs": [],
   "source": [
    "data.columns = [\"variance\", \"skewness\", \"curtosis\", \"entropy\", \"class\"]"
   ]
  },
  {
   "cell_type": "markdown",
   "metadata": {},
   "source": [
    "- Significato delle colonne:\n",
    "    - variance: varianza dell'immagine trasformata\n",
    "    - skewness: asimmetria dell'imagine trasformata\n",
    "    - curtosis: addensamento intorno al valore medio\n",
    "    - entropy: entropia dell'immagine trasformata\n",
    "    - class (da predire): classe dell'istanza, 0 falsa, 1 autentica "
   ]
  },
  {
   "cell_type": "code",
   "execution_count": 6,
   "metadata": {},
   "outputs": [
    {
     "data": {
      "text/html": [
       "<div>\n",
       "<style scoped>\n",
       "    .dataframe tbody tr th:only-of-type {\n",
       "        vertical-align: middle;\n",
       "    }\n",
       "\n",
       "    .dataframe tbody tr th {\n",
       "        vertical-align: top;\n",
       "    }\n",
       "\n",
       "    .dataframe thead th {\n",
       "        text-align: right;\n",
       "    }\n",
       "</style>\n",
       "<table border=\"1\" class=\"dataframe\">\n",
       "  <thead>\n",
       "    <tr style=\"text-align: right;\">\n",
       "      <th></th>\n",
       "      <th>variance</th>\n",
       "      <th>skewness</th>\n",
       "      <th>curtosis</th>\n",
       "      <th>entropy</th>\n",
       "      <th>class</th>\n",
       "    </tr>\n",
       "  </thead>\n",
       "  <tbody>\n",
       "    <tr>\n",
       "      <th>0</th>\n",
       "      <td>3.62160</td>\n",
       "      <td>8.6661</td>\n",
       "      <td>-2.8073</td>\n",
       "      <td>-0.44699</td>\n",
       "      <td>0</td>\n",
       "    </tr>\n",
       "    <tr>\n",
       "      <th>1</th>\n",
       "      <td>4.54590</td>\n",
       "      <td>8.1674</td>\n",
       "      <td>-2.4586</td>\n",
       "      <td>-1.46210</td>\n",
       "      <td>0</td>\n",
       "    </tr>\n",
       "    <tr>\n",
       "      <th>2</th>\n",
       "      <td>3.86600</td>\n",
       "      <td>-2.6383</td>\n",
       "      <td>1.9242</td>\n",
       "      <td>0.10645</td>\n",
       "      <td>0</td>\n",
       "    </tr>\n",
       "    <tr>\n",
       "      <th>3</th>\n",
       "      <td>3.45660</td>\n",
       "      <td>9.5228</td>\n",
       "      <td>-4.0112</td>\n",
       "      <td>-3.59440</td>\n",
       "      <td>0</td>\n",
       "    </tr>\n",
       "    <tr>\n",
       "      <th>4</th>\n",
       "      <td>0.32924</td>\n",
       "      <td>-4.4552</td>\n",
       "      <td>4.5718</td>\n",
       "      <td>-0.98880</td>\n",
       "      <td>0</td>\n",
       "    </tr>\n",
       "  </tbody>\n",
       "</table>\n",
       "</div>"
      ],
      "text/plain": [
       "   variance  skewness  curtosis  entropy  class\n",
       "0   3.62160    8.6661   -2.8073 -0.44699      0\n",
       "1   4.54590    8.1674   -2.4586 -1.46210      0\n",
       "2   3.86600   -2.6383    1.9242  0.10645      0\n",
       "3   3.45660    9.5228   -4.0112 -3.59440      0\n",
       "4   0.32924   -4.4552    4.5718 -0.98880      0"
      ]
     },
     "execution_count": 6,
     "metadata": {},
     "output_type": "execute_result"
    }
   ],
   "source": [
    "data.head(5)"
   ]
  },
  {
   "cell_type": "markdown",
   "metadata": {},
   "source": [
    "- Come si può notare abbiamo 1372 istanze e 5 colonne"
   ]
  },
  {
   "cell_type": "code",
   "execution_count": 7,
   "metadata": {},
   "outputs": [
    {
     "data": {
      "text/plain": [
       "(1372, 5)"
      ]
     },
     "execution_count": 7,
     "metadata": {},
     "output_type": "execute_result"
    }
   ],
   "source": [
    "data.shape "
   ]
  },
  {
   "cell_type": "markdown",
   "metadata": {},
   "source": [
    "- Mentre i tipi di dato delle colonne sono i seguenti"
   ]
  },
  {
   "cell_type": "code",
   "execution_count": 8,
   "metadata": {},
   "outputs": [
    {
     "data": {
      "text/plain": [
       "variance    float64\n",
       "skewness    float64\n",
       "curtosis    float64\n",
       "entropy     float64\n",
       "class         int64\n",
       "dtype: object"
      ]
     },
     "execution_count": 8,
     "metadata": {},
     "output_type": "execute_result"
    }
   ],
   "source": [
    "data.dtypes"
   ]
  },
  {
   "cell_type": "markdown",
   "metadata": {},
   "source": [
    "## Analisi Esplorativa dei dati"
   ]
  },
  {
   "cell_type": "markdown",
   "metadata": {},
   "source": [
    "- Utilizziamo la funzione di pandas describe() per visualizzare diverse informazioni riguardanti i dati:\n",
    "    - Numero di istanze\n",
    "    - Media di ciascuna feature\n",
    "    - Deviazione standard di ciscuna feature\n",
    "    - Valore minimo di ciascuna feature\n",
    "    - Percentili di ciascuna feature\n",
    "    - Valore massimo di ciascuna feature"
   ]
  },
  {
   "cell_type": "code",
   "execution_count": 9,
   "metadata": {},
   "outputs": [
    {
     "data": {
      "text/html": [
       "<div>\n",
       "<style scoped>\n",
       "    .dataframe tbody tr th:only-of-type {\n",
       "        vertical-align: middle;\n",
       "    }\n",
       "\n",
       "    .dataframe tbody tr th {\n",
       "        vertical-align: top;\n",
       "    }\n",
       "\n",
       "    .dataframe thead th {\n",
       "        text-align: right;\n",
       "    }\n",
       "</style>\n",
       "<table border=\"1\" class=\"dataframe\">\n",
       "  <thead>\n",
       "    <tr style=\"text-align: right;\">\n",
       "      <th></th>\n",
       "      <th>variance</th>\n",
       "      <th>skewness</th>\n",
       "      <th>curtosis</th>\n",
       "      <th>entropy</th>\n",
       "      <th>class</th>\n",
       "    </tr>\n",
       "  </thead>\n",
       "  <tbody>\n",
       "    <tr>\n",
       "      <th>count</th>\n",
       "      <td>1372.000000</td>\n",
       "      <td>1372.000000</td>\n",
       "      <td>1372.000000</td>\n",
       "      <td>1372.000000</td>\n",
       "      <td>1372.000000</td>\n",
       "    </tr>\n",
       "    <tr>\n",
       "      <th>mean</th>\n",
       "      <td>0.433735</td>\n",
       "      <td>1.922353</td>\n",
       "      <td>1.397627</td>\n",
       "      <td>-1.191657</td>\n",
       "      <td>0.444606</td>\n",
       "    </tr>\n",
       "    <tr>\n",
       "      <th>std</th>\n",
       "      <td>2.842763</td>\n",
       "      <td>5.869047</td>\n",
       "      <td>4.310030</td>\n",
       "      <td>2.101013</td>\n",
       "      <td>0.497103</td>\n",
       "    </tr>\n",
       "    <tr>\n",
       "      <th>min</th>\n",
       "      <td>-7.042100</td>\n",
       "      <td>-13.773100</td>\n",
       "      <td>-5.286100</td>\n",
       "      <td>-8.548200</td>\n",
       "      <td>0.000000</td>\n",
       "    </tr>\n",
       "    <tr>\n",
       "      <th>25%</th>\n",
       "      <td>-1.773000</td>\n",
       "      <td>-1.708200</td>\n",
       "      <td>-1.574975</td>\n",
       "      <td>-2.413450</td>\n",
       "      <td>0.000000</td>\n",
       "    </tr>\n",
       "    <tr>\n",
       "      <th>50%</th>\n",
       "      <td>0.496180</td>\n",
       "      <td>2.319650</td>\n",
       "      <td>0.616630</td>\n",
       "      <td>-0.586650</td>\n",
       "      <td>0.000000</td>\n",
       "    </tr>\n",
       "    <tr>\n",
       "      <th>75%</th>\n",
       "      <td>2.821475</td>\n",
       "      <td>6.814625</td>\n",
       "      <td>3.179250</td>\n",
       "      <td>0.394810</td>\n",
       "      <td>1.000000</td>\n",
       "    </tr>\n",
       "    <tr>\n",
       "      <th>max</th>\n",
       "      <td>6.824800</td>\n",
       "      <td>12.951600</td>\n",
       "      <td>17.927400</td>\n",
       "      <td>2.449500</td>\n",
       "      <td>1.000000</td>\n",
       "    </tr>\n",
       "  </tbody>\n",
       "</table>\n",
       "</div>"
      ],
      "text/plain": [
       "          variance     skewness     curtosis      entropy        class\n",
       "count  1372.000000  1372.000000  1372.000000  1372.000000  1372.000000\n",
       "mean      0.433735     1.922353     1.397627    -1.191657     0.444606\n",
       "std       2.842763     5.869047     4.310030     2.101013     0.497103\n",
       "min      -7.042100   -13.773100    -5.286100    -8.548200     0.000000\n",
       "25%      -1.773000    -1.708200    -1.574975    -2.413450     0.000000\n",
       "50%       0.496180     2.319650     0.616630    -0.586650     0.000000\n",
       "75%       2.821475     6.814625     3.179250     0.394810     1.000000\n",
       "max       6.824800    12.951600    17.927400     2.449500     1.000000"
      ]
     },
     "execution_count": 9,
     "metadata": {},
     "output_type": "execute_result"
    }
   ],
   "source": [
    "data.describe()"
   ]
  },
  {
   "cell_type": "markdown",
   "metadata": {},
   "source": [
    "- Verifichiamo l'esistenza di valori nulli\n",
    "    - In questo caso non ce ne sono"
   ]
  },
  {
   "cell_type": "code",
   "execution_count": 10,
   "metadata": {},
   "outputs": [
    {
     "data": {
      "text/plain": [
       "False"
      ]
     },
     "execution_count": 10,
     "metadata": {},
     "output_type": "execute_result"
    }
   ],
   "source": [
    "data.isnull().values.any()"
   ]
  },
  {
   "cell_type": "markdown",
   "metadata": {},
   "source": [
    "- Ora visualizziamo il numero di banconote nelle due classi\n",
    "    - Si può notare che abbiamo più casi di banconote contraffatte rispetto a banconote autentiche"
   ]
  },
  {
   "cell_type": "code",
   "execution_count": 11,
   "metadata": {},
   "outputs": [
    {
     "data": {
      "text/plain": [
       "0    55.539359\n",
       "1    44.460641\n",
       "Name: class, dtype: float64"
      ]
     },
     "execution_count": 11,
     "metadata": {},
     "output_type": "execute_result"
    }
   ],
   "source": [
    "data[\"class\"].value_counts(normalize = True) * 100 #Percentuale"
   ]
  },
  {
   "cell_type": "markdown",
   "metadata": {},
   "source": [
    "- Per visualizzarle meglio si può utilizzare un grafico a torta"
   ]
  },
  {
   "cell_type": "code",
   "execution_count": 12,
   "metadata": {},
   "outputs": [
    {
     "data": {
      "image/png": "[encoded data removed]",
      "text/plain": [
       "<Figure size 432x288 with 1 Axes>"
      ]
     },
     "metadata": {},
     "output_type": "display_data"
    }
   ],
   "source": [
    "data[\"class\"].value_counts().plot.pie();"
   ]
  },
  {
   "cell_type": "markdown",
   "metadata": {},
   "source": [
    "- Ora mostriamo gli istogrammi delle features"
   ]
  },
  {
   "cell_type": "code",
   "execution_count": 13,
   "metadata": {},
   "outputs": [
    {
     "data": {
      "image/png": "[encoded data removed]",
      "text/plain": [
       "<Figure size 864x432 with 4 Axes>"
      ]
     },
     "metadata": {
      "needs_background": "light"
     },
     "output_type": "display_data"
    }
   ],
   "source": [
    "fig = plt.figure(figsize=(12, 6))\n",
    "\n",
    "''' Varianza '''\n",
    "plt.subplot(2, 2, 1)\n",
    "plt.hist(data[\"variance\"])\n",
    "plt.title(\"Varianza\")\n",
    "\n",
    "''' Asimmetria '''\n",
    "plt.subplot(2, 2, 2)\n",
    "plt.hist(data[\"skewness\"])\n",
    "plt.title(\"Asimmatria\")\n",
    "\n",
    "''' Addensamento '''\n",
    "plt.subplot(2, 2, 3)\n",
    "plt.hist(data[\"curtosis\"])\n",
    "plt.title(\"Addensamento\")\n",
    "\n",
    "''' Entropia '''\n",
    "plt.subplot(2, 2, 4)\n",
    "plt.hist(data[\"entropy\"])\n",
    "plt.title(\"Entropia\")\n",
    "\n",
    "plt.show()"
   ]
  },
  {
   "cell_type": "markdown",
   "metadata": {},
   "source": [
    "- Ora proviamo a vedere se ci sono delle correlazioni tra variabili\n",
    "- Utilizzo data.corr() per vedere tutte le varie correlazioni tra le variabili\n",
    "- Noto che le variabili che hanno più influenza sono in ordine:\n",
    "    - Varianza\n",
    "    - Asimmetria\n",
    "    - Addensamento\n",
    "    - Entropia"
   ]
  },
  {
   "cell_type": "code",
   "execution_count": 14,
   "metadata": {},
   "outputs": [
    {
     "data": {
      "text/html": [
       "<style  type=\"text/css\" >\n",
       "    #T_2efe4f8a_ac9c_11ea_9e36_107b44373fc7row0_col0 {\n",
       "            background-color:  #b40426;\n",
       "            color:  #f1f1f1;\n",
       "        }    #T_2efe4f8a_ac9c_11ea_9e36_107b44373fc7row0_col1 {\n",
       "            background-color:  #f0cdbb;\n",
       "            color:  #000000;\n",
       "        }    #T_2efe4f8a_ac9c_11ea_9e36_107b44373fc7row0_col2 {\n",
       "            background-color:  #85a8fc;\n",
       "            color:  #000000;\n",
       "        }    #T_2efe4f8a_ac9c_11ea_9e36_107b44373fc7row0_col3 {\n",
       "            background-color:  #e3d9d3;\n",
       "            color:  #000000;\n",
       "        }    #T_2efe4f8a_ac9c_11ea_9e36_107b44373fc7row0_col4 {\n",
       "            background-color:  #3b4cc0;\n",
       "            color:  #f1f1f1;\n",
       "        }    #T_2efe4f8a_ac9c_11ea_9e36_107b44373fc7row1_col0 {\n",
       "            background-color:  #edd1c2;\n",
       "            color:  #000000;\n",
       "        }    #T_2efe4f8a_ac9c_11ea_9e36_107b44373fc7row1_col1 {\n",
       "            background-color:  #b40426;\n",
       "            color:  #f1f1f1;\n",
       "        }    #T_2efe4f8a_ac9c_11ea_9e36_107b44373fc7row1_col2 {\n",
       "            background-color:  #3b4cc0;\n",
       "            color:  #f1f1f1;\n",
       "        }    #T_2efe4f8a_ac9c_11ea_9e36_107b44373fc7row1_col3 {\n",
       "            background-color:  #3b4cc0;\n",
       "            color:  #f1f1f1;\n",
       "        }    #T_2efe4f8a_ac9c_11ea_9e36_107b44373fc7row1_col4 {\n",
       "            background-color:  #6e90f2;\n",
       "            color:  #000000;\n",
       "        }    #T_2efe4f8a_ac9c_11ea_9e36_107b44373fc7row2_col0 {\n",
       "            background-color:  #7b9ff9;\n",
       "            color:  #000000;\n",
       "        }    #T_2efe4f8a_ac9c_11ea_9e36_107b44373fc7row2_col1 {\n",
       "            background-color:  #3b4cc0;\n",
       "            color:  #f1f1f1;\n",
       "        }    #T_2efe4f8a_ac9c_11ea_9e36_107b44373fc7row2_col2 {\n",
       "            background-color:  #b40426;\n",
       "            color:  #f1f1f1;\n",
       "        }    #T_2efe4f8a_ac9c_11ea_9e36_107b44373fc7row2_col3 {\n",
       "            background-color:  #ead5c9;\n",
       "            color:  #000000;\n",
       "        }    #T_2efe4f8a_ac9c_11ea_9e36_107b44373fc7row2_col4 {\n",
       "            background-color:  #dfdbd9;\n",
       "            color:  #000000;\n",
       "        }    #T_2efe4f8a_ac9c_11ea_9e36_107b44373fc7row3_col0 {\n",
       "            background-color:  #efcfbf;\n",
       "            color:  #000000;\n",
       "        }    #T_2efe4f8a_ac9c_11ea_9e36_107b44373fc7row3_col1 {\n",
       "            background-color:  #688aef;\n",
       "            color:  #000000;\n",
       "        }    #T_2efe4f8a_ac9c_11ea_9e36_107b44373fc7row3_col2 {\n",
       "            background-color:  #f4c6af;\n",
       "            color:  #000000;\n",
       "        }    #T_2efe4f8a_ac9c_11ea_9e36_107b44373fc7row3_col3 {\n",
       "            background-color:  #b40426;\n",
       "            color:  #f1f1f1;\n",
       "        }    #T_2efe4f8a_ac9c_11ea_9e36_107b44373fc7row3_col4 {\n",
       "            background-color:  #c3d5f4;\n",
       "            color:  #000000;\n",
       "        }    #T_2efe4f8a_ac9c_11ea_9e36_107b44373fc7row4_col0 {\n",
       "            background-color:  #3b4cc0;\n",
       "            color:  #f1f1f1;\n",
       "        }    #T_2efe4f8a_ac9c_11ea_9e36_107b44373fc7row4_col1 {\n",
       "            background-color:  #799cf8;\n",
       "            color:  #000000;\n",
       "        }    #T_2efe4f8a_ac9c_11ea_9e36_107b44373fc7row4_col2 {\n",
       "            background-color:  #e4d9d2;\n",
       "            color:  #000000;\n",
       "        }    #T_2efe4f8a_ac9c_11ea_9e36_107b44373fc7row4_col3 {\n",
       "            background-color:  #a9c6fd;\n",
       "            color:  #000000;\n",
       "        }    #T_2efe4f8a_ac9c_11ea_9e36_107b44373fc7row4_col4 {\n",
       "            background-color:  #b40426;\n",
       "            color:  #f1f1f1;\n",
       "        }</style><table id=\"T_2efe4f8a_ac9c_11ea_9e36_107b44373fc7\" ><thead>    <tr>        <th class=\"blank level0\" ></th>        <th class=\"col_heading level0 col0\" >variance</th>        <th class=\"col_heading level0 col1\" >skewness</th>        <th class=\"col_heading level0 col2\" >curtosis</th>        <th class=\"col_heading level0 col3\" >entropy</th>        <th class=\"col_heading level0 col4\" >class</th>    </tr></thead><tbody>\n",
       "                <tr>\n",
       "                        <th id=\"T_2efe4f8a_ac9c_11ea_9e36_107b44373fc7level0_row0\" class=\"row_heading level0 row0\" >variance</th>\n",
       "                        <td id=\"T_2efe4f8a_ac9c_11ea_9e36_107b44373fc7row0_col0\" class=\"data row0 col0\" >1.00</td>\n",
       "                        <td id=\"T_2efe4f8a_ac9c_11ea_9e36_107b44373fc7row0_col1\" class=\"data row0 col1\" >0.26</td>\n",
       "                        <td id=\"T_2efe4f8a_ac9c_11ea_9e36_107b44373fc7row0_col2\" class=\"data row0 col2\" >-0.38</td>\n",
       "                        <td id=\"T_2efe4f8a_ac9c_11ea_9e36_107b44373fc7row0_col3\" class=\"data row0 col3\" >0.28</td>\n",
       "                        <td id=\"T_2efe4f8a_ac9c_11ea_9e36_107b44373fc7row0_col4\" class=\"data row0 col4\" >-0.72</td>\n",
       "            </tr>\n",
       "            <tr>\n",
       "                        <th id=\"T_2efe4f8a_ac9c_11ea_9e36_107b44373fc7level0_row1\" class=\"row_heading level0 row1\" >skewness</th>\n",
       "                        <td id=\"T_2efe4f8a_ac9c_11ea_9e36_107b44373fc7row1_col0\" class=\"data row1 col0\" >0.26</td>\n",
       "                        <td id=\"T_2efe4f8a_ac9c_11ea_9e36_107b44373fc7row1_col1\" class=\"data row1 col1\" >1.00</td>\n",
       "                        <td id=\"T_2efe4f8a_ac9c_11ea_9e36_107b44373fc7row1_col2\" class=\"data row1 col2\" >-0.79</td>\n",
       "                        <td id=\"T_2efe4f8a_ac9c_11ea_9e36_107b44373fc7row1_col3\" class=\"data row1 col3\" >-0.53</td>\n",
       "                        <td id=\"T_2efe4f8a_ac9c_11ea_9e36_107b44373fc7row1_col4\" class=\"data row1 col4\" >-0.44</td>\n",
       "            </tr>\n",
       "            <tr>\n",
       "                        <th id=\"T_2efe4f8a_ac9c_11ea_9e36_107b44373fc7level0_row2\" class=\"row_heading level0 row2\" >curtosis</th>\n",
       "                        <td id=\"T_2efe4f8a_ac9c_11ea_9e36_107b44373fc7row2_col0\" class=\"data row2 col0\" >-0.38</td>\n",
       "                        <td id=\"T_2efe4f8a_ac9c_11ea_9e36_107b44373fc7row2_col1\" class=\"data row2 col1\" >-0.79</td>\n",
       "                        <td id=\"T_2efe4f8a_ac9c_11ea_9e36_107b44373fc7row2_col2\" class=\"data row2 col2\" >1.00</td>\n",
       "                        <td id=\"T_2efe4f8a_ac9c_11ea_9e36_107b44373fc7row2_col3\" class=\"data row2 col3\" >0.32</td>\n",
       "                        <td id=\"T_2efe4f8a_ac9c_11ea_9e36_107b44373fc7row2_col4\" class=\"data row2 col4\" >0.16</td>\n",
       "            </tr>\n",
       "            <tr>\n",
       "                        <th id=\"T_2efe4f8a_ac9c_11ea_9e36_107b44373fc7level0_row3\" class=\"row_heading level0 row3\" >entropy</th>\n",
       "                        <td id=\"T_2efe4f8a_ac9c_11ea_9e36_107b44373fc7row3_col0\" class=\"data row3 col0\" >0.28</td>\n",
       "                        <td id=\"T_2efe4f8a_ac9c_11ea_9e36_107b44373fc7row3_col1\" class=\"data row3 col1\" >-0.53</td>\n",
       "                        <td id=\"T_2efe4f8a_ac9c_11ea_9e36_107b44373fc7row3_col2\" class=\"data row3 col2\" >0.32</td>\n",
       "                        <td id=\"T_2efe4f8a_ac9c_11ea_9e36_107b44373fc7row3_col3\" class=\"data row3 col3\" >1.00</td>\n",
       "                        <td id=\"T_2efe4f8a_ac9c_11ea_9e36_107b44373fc7row3_col4\" class=\"data row3 col4\" >-0.02</td>\n",
       "            </tr>\n",
       "            <tr>\n",
       "                        <th id=\"T_2efe4f8a_ac9c_11ea_9e36_107b44373fc7level0_row4\" class=\"row_heading level0 row4\" >class</th>\n",
       "                        <td id=\"T_2efe4f8a_ac9c_11ea_9e36_107b44373fc7row4_col0\" class=\"data row4 col0\" >-0.72</td>\n",
       "                        <td id=\"T_2efe4f8a_ac9c_11ea_9e36_107b44373fc7row4_col1\" class=\"data row4 col1\" >-0.44</td>\n",
       "                        <td id=\"T_2efe4f8a_ac9c_11ea_9e36_107b44373fc7row4_col2\" class=\"data row4 col2\" >0.16</td>\n",
       "                        <td id=\"T_2efe4f8a_ac9c_11ea_9e36_107b44373fc7row4_col3\" class=\"data row4 col3\" >-0.02</td>\n",
       "                        <td id=\"T_2efe4f8a_ac9c_11ea_9e36_107b44373fc7row4_col4\" class=\"data row4 col4\" >1.00</td>\n",
       "            </tr>\n",
       "    </tbody></table>"
      ],
      "text/plain": [
       "<pandas.io.formats.style.Styler at 0x1f5184dd748>"
      ]
     },
     "execution_count": 14,
     "metadata": {},
     "output_type": "execute_result"
    }
   ],
   "source": [
    "corr = data.corr()\n",
    "corr.style.background_gradient(cmap='coolwarm').set_precision(2) #set_precision(2) = due numeri dopo la virgola"
   ]
  },
  {
   "cell_type": "markdown",
   "metadata": {},
   "source": [
    "- Proviamo a visualizzare un grafico a dispersione per vedere se c'è correlazione tra Varianza e Classe\n",
    "- In generale si può notare come aumentando la varianza aumentiamo la possibilità che la la banconota sia contraffatta e viceversa"
   ]
  },
  {
   "cell_type": "code",
   "execution_count": 15,
   "metadata": {},
   "outputs": [
    {
     "data": {
      "image/png": "[encoded data removed]",
      "text/plain": [
       "<Figure size 432x288 with 1 Axes>"
      ]
     },
     "metadata": {
      "needs_background": "light"
     },
     "output_type": "display_data"
    }
   ],
   "source": [
    "data.plot.scatter(\"variance\", \"class\");"
   ]
  },
  {
   "cell_type": "markdown",
   "metadata": {},
   "source": [
    "- Lo stesso con l'asimmetria ma qui abbiamo una minore correlazione"
   ]
  },
  {
   "cell_type": "code",
   "execution_count": 16,
   "metadata": {},
   "outputs": [
    {
     "data": {
      "image/png": "[encoded data removed]",
      "text/plain": [
       "<Figure size 432x288 with 1 Axes>"
      ]
     },
     "metadata": {
      "needs_background": "light"
     },
     "output_type": "display_data"
    }
   ],
   "source": [
    "data.plot.scatter(\"skewness\", \"class\");"
   ]
  },
  {
   "cell_type": "markdown",
   "metadata": {},
   "source": [
    "- Per il caso dell'addensamento ed entropia abbiamo meno correlazione con la classe"
   ]
  },
  {
   "cell_type": "code",
   "execution_count": 17,
   "metadata": {},
   "outputs": [
    {
     "data": {
      "image/png": "[encoded data removed]",
      "text/plain": [
       "<Figure size 432x288 with 1 Axes>"
      ]
     },
     "metadata": {
      "needs_background": "light"
     },
     "output_type": "display_data"
    },
    {
     "data": {
      "image/png": "[encoded data removed]",
      "text/plain": [
       "<Figure size 432x288 with 1 Axes>"
      ]
     },
     "metadata": {
      "needs_background": "light"
     },
     "output_type": "display_data"
    }
   ],
   "source": [
    "data.plot.scatter(\"curtosis\", \"class\");\n",
    "data.plot.scatter(\"entropy\", \"class\");"
   ]
  },
  {
   "cell_type": "markdown",
   "metadata": {},
   "source": [
    "## Suddivisione dei dati, preprocessamento dei dati per l'addestramento"
   ]
  },
  {
   "cell_type": "markdown",
   "metadata": {},
   "source": [
    "- Per prima cosa dividiamo i dati:\n",
    "    - Prendiamo come y la variabile class cioè quella da predire\n",
    "    - Prendiamo come X le altre colonne:\n",
    "        - Come visualizzato già sopra le prime 3 features hanno un'influenza maggiormente positiva, in particolare la prima che rappresenta la     varianza, includendo anche l'ultima colonna penalizziamo di pochissimo il modello"
   ]
  },
  {
   "cell_type": "code",
   "execution_count": 33,
   "metadata": {},
   "outputs": [],
   "source": [
    "y = data[\"class\"]\n",
    "X = data.iloc[:, :3] \n",
    "#X = data.iloc[:, :4] #Per provare con tutte le features"
   ]
  },
  {
   "cell_type": "markdown",
   "metadata": {},
   "source": [
    "- Abbiamo la y con la sola colonna \"class\" mentre la X con le 3 colonne (variance, skewness e curtosis)"
   ]
  },
  {
   "cell_type": "code",
   "execution_count": 34,
   "metadata": {},
   "outputs": [
    {
     "data": {
      "text/plain": [
       "((1372,), (1372, 3))"
      ]
     },
     "execution_count": 34,
     "metadata": {},
     "output_type": "execute_result"
    }
   ],
   "source": [
    "y.shape, X.shape"
   ]
  },
  {
   "cell_type": "markdown",
   "metadata": {},
   "source": [
    "- Ora suddividiamo i dati in training set e validation set\n",
    "- Utilizziamo 2/3 dei dati per l'addestramento e 1/3 dei dati per il validation\n",
    "- Utilizzo un random_state per la riproducibilità dei dati"
   ]
  },
  {
   "cell_type": "code",
   "execution_count": 35,
   "metadata": {},
   "outputs": [],
   "source": [
    "from sklearn.model_selection import train_test_split\n",
    "X_train, X_val, y_train, y_val = train_test_split(\n",
    "    X, y,             # dati da suddividere\n",
    "    test_size=1/3,    # proporzione: 2/3 training, 1/3 validation\n",
    "    random_state=42   # seed per la riproducibilità\n",
    ")"
   ]
  },
  {
   "cell_type": "markdown",
   "metadata": {},
   "source": [
    "- Visualizziamo come sono stati divisi i dati in training e validation"
   ]
  },
  {
   "cell_type": "code",
   "execution_count": 36,
   "metadata": {},
   "outputs": [
    {
     "data": {
      "text/plain": [
       "((914, 3), (914,))"
      ]
     },
     "execution_count": 36,
     "metadata": {},
     "output_type": "execute_result"
    }
   ],
   "source": [
    "X_train.shape, y_train.shape"
   ]
  },
  {
   "cell_type": "code",
   "execution_count": 37,
   "metadata": {},
   "outputs": [
    {
     "data": {
      "text/plain": [
       "0    503\n",
       "1    411\n",
       "Name: class, dtype: int64"
      ]
     },
     "execution_count": 37,
     "metadata": {},
     "output_type": "execute_result"
    }
   ],
   "source": [
    "pd.DataFrame(y_train)[\"class\"].value_counts()"
   ]
  },
  {
   "cell_type": "markdown",
   "metadata": {},
   "source": [
    "- E quelli di validation"
   ]
  },
  {
   "cell_type": "code",
   "execution_count": 38,
   "metadata": {},
   "outputs": [
    {
     "data": {
      "text/plain": [
       "((458, 3), (458,))"
      ]
     },
     "execution_count": 38,
     "metadata": {},
     "output_type": "execute_result"
    }
   ],
   "source": [
    "X_val.shape, y_val.shape"
   ]
  },
  {
   "cell_type": "code",
   "execution_count": 39,
   "metadata": {},
   "outputs": [
    {
     "data": {
      "text/plain": [
       "0    259\n",
       "1    199\n",
       "Name: class, dtype: int64"
      ]
     },
     "execution_count": 39,
     "metadata": {},
     "output_type": "execute_result"
    }
   ],
   "source": [
    "pd.DataFrame(y_val)[\"class\"].value_counts()"
   ]
  },
  {
   "cell_type": "markdown",
   "metadata": {},
   "source": [
    "## Addestramento di primi modelli sui dati"
   ]
  },
  {
   "cell_type": "markdown",
   "metadata": {},
   "source": [
    "- Dopo aver suddiviso i dati proviamo subito dei semplici modelli"
   ]
  },
  {
   "cell_type": "markdown",
   "metadata": {},
   "source": [
    "- Utilizzo da subito un Pipeline per aumentare la leggibilità del modello e scrivere codice più compatto\n",
    "- Utilizzo uno StandardScaler per standardizzare i dati e aumentarne l'accuratezza\n",
    "- Utilizzo inizialmente un semplice Perceptron per vedere come va l'accuratezza"
   ]
  },
  {
   "cell_type": "code",
   "execution_count": 40,
   "metadata": {},
   "outputs": [],
   "source": [
    "from sklearn.pipeline import Pipeline\n",
    "from sklearn.preprocessing import StandardScaler, PolynomialFeatures\n",
    "from sklearn.linear_model import Perceptron\n",
    "\n",
    "model = Pipeline([\n",
    "    (\"scaler\", StandardScaler()),\n",
    "    (\"perceptron\", Perceptron(random_state = 42)) #Utilizzo il random_state per la riproducibilità\n",
    "])"
   ]
  },
  {
   "cell_type": "markdown",
   "metadata": {},
   "source": [
    "- Addestro il modello sui dati di training"
   ]
  },
  {
   "cell_type": "code",
   "execution_count": 41,
   "metadata": {},
   "outputs": [
    {
     "data": {
      "text/plain": [
       "Pipeline(memory=None,\n",
       "         steps=[('scaler',\n",
       "                 StandardScaler(copy=True, with_mean=True, with_std=True)),\n",
       "                ('perceptron',\n",
       "                 Perceptron(alpha=0.0001, class_weight=None,\n",
       "                            early_stopping=False, eta0=1.0, fit_intercept=True,\n",
       "                            max_iter=1000, n_iter_no_change=5, n_jobs=None,\n",
       "                            penalty=None, random_state=42, shuffle=True,\n",
       "                            tol=0.001, validation_fraction=0.1, verbose=0,\n",
       "                            warm_start=False))],\n",
       "         verbose=False)"
      ]
     },
     "execution_count": 41,
     "metadata": {},
     "output_type": "execute_result"
    }
   ],
   "source": [
    "model.fit(X_train, y_train) "
   ]
  },
  {
   "cell_type": "markdown",
   "metadata": {},
   "source": [
    "- Proviamo a vedere i pesi che ha trovato il modello"
   ]
  },
  {
   "cell_type": "code",
   "execution_count": 42,
   "metadata": {},
   "outputs": [
    {
     "data": {
      "text/plain": [
       "variance   -10.710643\n",
       "skewness   -11.048710\n",
       "curtosis   -12.172469\n",
       "dtype: float64"
      ]
     },
     "execution_count": 42,
     "metadata": {},
     "output_type": "execute_result"
    }
   ],
   "source": [
    "pd.Series(index=X.columns, data=model.named_steps[\"perceptron\"].coef_.ravel())"
   ]
  },
  {
   "cell_type": "markdown",
   "metadata": {},
   "source": [
    "- Possiamo notare che l'accuratezza trovato utilizzando il Perceptron è già buona"
   ]
  },
  {
   "cell_type": "code",
   "execution_count": 43,
   "metadata": {},
   "outputs": [
    {
     "data": {
      "text/plain": [
       "0.9585152838427947"
      ]
     },
     "execution_count": 43,
     "metadata": {},
     "output_type": "execute_result"
    }
   ],
   "source": [
    "model.score(X_val, y_val)"
   ]
  },
  {
   "cell_type": "markdown",
   "metadata": {},
   "source": [
    "- Ora proviamo ad utilizzare altri modi per valutare l'accuratezza del modello come la matrice di confusione"
   ]
  },
  {
   "cell_type": "code",
   "execution_count": 44,
   "metadata": {},
   "outputs": [],
   "source": [
    "from sklearn.metrics import confusion_matrix\n",
    "y_pred = model.predict(X_val) #Effettuiamo le predizioni sui dati di validation\n",
    "cm = confusion_matrix(y_val, y_pred) #Matrice di confusione"
   ]
  },
  {
   "cell_type": "code",
   "execution_count": 45,
   "metadata": {},
   "outputs": [
    {
     "data": {
      "text/html": [
       "<div>\n",
       "<style scoped>\n",
       "    .dataframe tbody tr th:only-of-type {\n",
       "        vertical-align: middle;\n",
       "    }\n",
       "\n",
       "    .dataframe tbody tr th {\n",
       "        vertical-align: top;\n",
       "    }\n",
       "\n",
       "    .dataframe thead th {\n",
       "        text-align: right;\n",
       "    }\n",
       "</style>\n",
       "<table border=\"1\" class=\"dataframe\">\n",
       "  <thead>\n",
       "    <tr style=\"text-align: right;\">\n",
       "      <th></th>\n",
       "      <th>0</th>\n",
       "      <th>1</th>\n",
       "    </tr>\n",
       "  </thead>\n",
       "  <tbody>\n",
       "    <tr>\n",
       "      <th>0</th>\n",
       "      <td>259</td>\n",
       "      <td>0</td>\n",
       "    </tr>\n",
       "    <tr>\n",
       "      <th>1</th>\n",
       "      <td>19</td>\n",
       "      <td>180</td>\n",
       "    </tr>\n",
       "  </tbody>\n",
       "</table>\n",
       "</div>"
      ],
      "text/plain": [
       "     0    1\n",
       "0  259    0\n",
       "1   19  180"
      ]
     },
     "execution_count": 45,
     "metadata": {},
     "output_type": "execute_result"
    }
   ],
   "source": [
    "pd.DataFrame(cm, columns = model.named_steps[\"perceptron\"].classes_, index = model.named_steps[\"perceptron\"].classes_)"
   ]
  },
  {
   "cell_type": "markdown",
   "metadata": {},
   "source": [
    "- Proviamo a verificare anche la precision, recall e f1 score"
   ]
  },
  {
   "cell_type": "code",
   "execution_count": 46,
   "metadata": {},
   "outputs": [],
   "source": [
    "from sklearn.metrics import precision_score, recall_score, f1_score"
   ]
  },
  {
   "cell_type": "code",
   "execution_count": 47,
   "metadata": {},
   "outputs": [
    {
     "data": {
      "text/plain": [
       "array([0.93165468, 1.        ])"
      ]
     },
     "execution_count": 47,
     "metadata": {},
     "output_type": "execute_result"
    }
   ],
   "source": [
    "precision_score(y_val, y_pred, average = None)"
   ]
  },
  {
   "cell_type": "code",
   "execution_count": 48,
   "metadata": {},
   "outputs": [
    {
     "data": {
      "text/plain": [
       "array([1.        , 0.90452261])"
      ]
     },
     "execution_count": 48,
     "metadata": {},
     "output_type": "execute_result"
    }
   ],
   "source": [
    "recall_score(y_val, y_pred, average = None)"
   ]
  },
  {
   "cell_type": "code",
   "execution_count": 49,
   "metadata": {},
   "outputs": [
    {
     "data": {
      "text/plain": [
       "array([0.96461825, 0.94986807])"
      ]
     },
     "execution_count": 49,
     "metadata": {},
     "output_type": "execute_result"
    }
   ],
   "source": [
    "f1_score(y_val, y_pred, average=None)"
   ]
  },
  {
   "cell_type": "markdown",
   "metadata": {},
   "source": [
    "- Dopo aver provato con un Perceptron e aver ottenuto già buoni risultati proviamo con una Logistic Regression che ci permetterà di ottenere risultati migliori\n",
    "- Come prima utilizzo la Pipeline per aumentare la leggibilità e scrivere meno codice"
   ]
  },
  {
   "cell_type": "code",
   "execution_count": 50,
   "metadata": {},
   "outputs": [],
   "source": [
    "from sklearn.linear_model import LogisticRegression\n",
    "model = Pipeline([\n",
    "    (\"scaler\", StandardScaler()),\n",
    "    (\"logreg\", LogisticRegression(random_state=42))\n",
    "])"
   ]
  },
  {
   "cell_type": "markdown",
   "metadata": {},
   "source": [
    "- Addestriamo il modello sugli stessi dati di prima"
   ]
  },
  {
   "cell_type": "code",
   "execution_count": 51,
   "metadata": {},
   "outputs": [
    {
     "data": {
      "text/plain": [
       "Pipeline(memory=None,\n",
       "         steps=[('scaler',\n",
       "                 StandardScaler(copy=True, with_mean=True, with_std=True)),\n",
       "                ('logreg',\n",
       "                 LogisticRegression(C=1.0, class_weight=None, dual=False,\n",
       "                                    fit_intercept=True, intercept_scaling=1,\n",
       "                                    l1_ratio=None, max_iter=100,\n",
       "                                    multi_class='auto', n_jobs=None,\n",
       "                                    penalty='l2', random_state=42,\n",
       "                                    solver='lbfgs', tol=0.0001, verbose=0,\n",
       "                                    warm_start=False))],\n",
       "         verbose=False)"
      ]
     },
     "execution_count": 51,
     "metadata": {},
     "output_type": "execute_result"
    }
   ],
   "source": [
    "model.fit(X_train, y_train)"
   ]
  },
  {
   "cell_type": "markdown",
   "metadata": {},
   "source": [
    "- Valutando l'accuratezza del modello si può notare come con una LogisticRegression si ottenga un'accuratezza migliore rispetto prima"
   ]
  },
  {
   "cell_type": "code",
   "execution_count": 52,
   "metadata": {},
   "outputs": [
    {
     "data": {
      "text/plain": [
       "0.9868995633187773"
      ]
     },
     "execution_count": 52,
     "metadata": {},
     "output_type": "execute_result"
    }
   ],
   "source": [
    "model.score(X_val, y_val)"
   ]
  },
  {
   "cell_type": "markdown",
   "metadata": {},
   "source": [
    "- Come prima verifichiamo la matrice di confusione, precision, recall e f1 score per vedere se c'è differenza"
   ]
  },
  {
   "cell_type": "code",
   "execution_count": 53,
   "metadata": {},
   "outputs": [],
   "source": [
    "y_pred = model.predict(X_val) #Prima faccio le predizioni"
   ]
  },
  {
   "cell_type": "markdown",
   "metadata": {},
   "source": [
    "- Anche qui si può notare una differenza abbastanza rilevante nella matrice di confusione"
   ]
  },
  {
   "cell_type": "code",
   "execution_count": 54,
   "metadata": {},
   "outputs": [
    {
     "data": {
      "text/html": [
       "<div>\n",
       "<style scoped>\n",
       "    .dataframe tbody tr th:only-of-type {\n",
       "        vertical-align: middle;\n",
       "    }\n",
       "\n",
       "    .dataframe tbody tr th {\n",
       "        vertical-align: top;\n",
       "    }\n",
       "\n",
       "    .dataframe thead th {\n",
       "        text-align: right;\n",
       "    }\n",
       "</style>\n",
       "<table border=\"1\" class=\"dataframe\">\n",
       "  <thead>\n",
       "    <tr style=\"text-align: right;\">\n",
       "      <th></th>\n",
       "      <th>0</th>\n",
       "      <th>1</th>\n",
       "    </tr>\n",
       "  </thead>\n",
       "  <tbody>\n",
       "    <tr>\n",
       "      <th>0</th>\n",
       "      <td>255</td>\n",
       "      <td>4</td>\n",
       "    </tr>\n",
       "    <tr>\n",
       "      <th>1</th>\n",
       "      <td>2</td>\n",
       "      <td>197</td>\n",
       "    </tr>\n",
       "  </tbody>\n",
       "</table>\n",
       "</div>"
      ],
      "text/plain": [
       "     0    1\n",
       "0  255    4\n",
       "1    2  197"
      ]
     },
     "execution_count": 54,
     "metadata": {},
     "output_type": "execute_result"
    }
   ],
   "source": [
    "cm = confusion_matrix(y_val, y_pred)\n",
    "pd.DataFrame(cm, columns = model.named_steps[\"logreg\"].classes_, index = model.named_steps[\"logreg\"].classes_)"
   ]
  },
  {
   "cell_type": "markdown",
   "metadata": {},
   "source": [
    "- Ci aspettiamo che precision, recall e f1 score siano migliori rispetto al modello Perceptron"
   ]
  },
  {
   "cell_type": "code",
   "execution_count": 55,
   "metadata": {},
   "outputs": [
    {
     "data": {
      "text/plain": [
       "array([0.9922179, 0.9800995])"
      ]
     },
     "execution_count": 55,
     "metadata": {},
     "output_type": "execute_result"
    }
   ],
   "source": [
    "precision_score(y_val, y_pred, average = None)"
   ]
  },
  {
   "cell_type": "code",
   "execution_count": 56,
   "metadata": {},
   "outputs": [
    {
     "data": {
      "text/plain": [
       "array([0.98455598, 0.98994975])"
      ]
     },
     "execution_count": 56,
     "metadata": {},
     "output_type": "execute_result"
    }
   ],
   "source": [
    "recall_score(y_val, y_pred, average = None)"
   ]
  },
  {
   "cell_type": "code",
   "execution_count": 57,
   "metadata": {},
   "outputs": [
    {
     "data": {
      "text/plain": [
       "array([0.98837209, 0.985     ])"
      ]
     },
     "execution_count": 57,
     "metadata": {},
     "output_type": "execute_result"
    }
   ],
   "source": [
    "f1_score(y_val, y_pred, average = None)"
   ]
  },
  {
   "cell_type": "markdown",
   "metadata": {},
   "source": [
    "- Ora proviamo la regolarizzazione sempre attraverso la LogisticRegression:\n",
    "    - Utilizziamo il parametro solver=\"saga\" per utilizzare la regolarizzazine\n",
    "    - Senza specificare niente di default abbiamo la regolarizzazione L2"
   ]
  },
  {
   "cell_type": "code",
   "execution_count": 59,
   "metadata": {},
   "outputs": [],
   "source": [
    "model = Pipeline([\n",
    "    (\"scaler\", StandardScaler()),\n",
    "    (\"logreg\", LogisticRegression(solver=\"saga\", random_state=42, C = 1000, )) # C alto bassa regolarizzazione\n",
    "])"
   ]
  },
  {
   "cell_type": "markdown",
   "metadata": {},
   "source": [
    "- Addestriamo il modello"
   ]
  },
  {
   "cell_type": "code",
   "execution_count": 60,
   "metadata": {},
   "outputs": [
    {
     "name": "stderr",
     "output_type": "stream",
     "text": [
      "C:\\Users\\Mattia\\anaconda3\\envs\\deeplearn\\lib\\site-packages\\sklearn\\linear_model\\_sag.py:330: ConvergenceWarning: The max_iter was reached which means the coef_ did not converge\n",
      "  \"the coef_ did not converge\", ConvergenceWarning)\n"
     ]
    },
    {
     "data": {
      "text/plain": [
       "Pipeline(memory=None,\n",
       "         steps=[('scaler',\n",
       "                 StandardScaler(copy=True, with_mean=True, with_std=True)),\n",
       "                ('logreg',\n",
       "                 LogisticRegression(C=1000, class_weight=None, dual=False,\n",
       "                                    fit_intercept=True, intercept_scaling=1,\n",
       "                                    l1_ratio=None, max_iter=100,\n",
       "                                    multi_class='auto', n_jobs=None,\n",
       "                                    penalty='l2', random_state=42,\n",
       "                                    solver='saga', tol=0.0001, verbose=0,\n",
       "                                    warm_start=False))],\n",
       "         verbose=False)"
      ]
     },
     "execution_count": 60,
     "metadata": {},
     "output_type": "execute_result"
    }
   ],
   "source": [
    "model.fit(X_train, y_train)"
   ]
  },
  {
   "cell_type": "markdown",
   "metadata": {},
   "source": [
    "- Accuratezza leggermente migliore al modello di prima senza regolarizzazione"
   ]
  },
  {
   "cell_type": "code",
   "execution_count": 61,
   "metadata": {},
   "outputs": [
    {
     "data": {
      "text/plain": [
       "0.9890829694323144"
      ]
     },
     "execution_count": 61,
     "metadata": {},
     "output_type": "execute_result"
    }
   ],
   "source": [
    "model.score(X_val, y_val)"
   ]
  },
  {
   "cell_type": "markdown",
   "metadata": {},
   "source": [
    "- Proviamo a regolarizzare utilizzando solo L1 (Lasso)"
   ]
  },
  {
   "cell_type": "code",
   "execution_count": 62,
   "metadata": {},
   "outputs": [],
   "source": [
    "model = Pipeline([\n",
    "    (\"scaler\", StandardScaler()),\n",
    "    (\"logreg\", LogisticRegression(solver=\"saga\", random_state=42, penalty=\"l1\", C=0.01)) \n",
    "])"
   ]
  },
  {
   "cell_type": "code",
   "execution_count": 63,
   "metadata": {},
   "outputs": [
    {
     "data": {
      "text/plain": [
       "Pipeline(memory=None,\n",
       "         steps=[('scaler',\n",
       "                 StandardScaler(copy=True, with_mean=True, with_std=True)),\n",
       "                ('logreg',\n",
       "                 LogisticRegression(C=0.01, class_weight=None, dual=False,\n",
       "                                    fit_intercept=True, intercept_scaling=1,\n",
       "                                    l1_ratio=None, max_iter=100,\n",
       "                                    multi_class='auto', n_jobs=None,\n",
       "                                    penalty='l1', random_state=42,\n",
       "                                    solver='saga', tol=0.0001, verbose=0,\n",
       "                                    warm_start=False))],\n",
       "         verbose=False)"
      ]
     },
     "execution_count": 63,
     "metadata": {},
     "output_type": "execute_result"
    }
   ],
   "source": [
    "model.fit(X_train, y_train)"
   ]
  },
  {
   "cell_type": "markdown",
   "metadata": {},
   "source": [
    "- Possiamo vedere come in questo caso la regolarizzazione L1 non dia buoni risultati al contrario della L2"
   ]
  },
  {
   "cell_type": "code",
   "execution_count": 64,
   "metadata": {},
   "outputs": [
    {
     "data": {
      "text/plain": [
       "0.8493449781659389"
      ]
     },
     "execution_count": 64,
     "metadata": {},
     "output_type": "execute_result"
    }
   ],
   "source": [
    "model.score(X_val, y_val)"
   ]
  },
  {
   "cell_type": "markdown",
   "metadata": {},
   "source": [
    "- Vediamo i pesi azzerati dal modello:\n",
    "    - Solo per curtosis"
   ]
  },
  {
   "cell_type": "code",
   "execution_count": 65,
   "metadata": {},
   "outputs": [
    {
     "data": {
      "text/plain": [
       "variance   -1.211650\n",
       "skewness   -0.256856\n",
       "curtosis    0.000000\n",
       "dtype: float64"
      ]
     },
     "execution_count": 65,
     "metadata": {},
     "output_type": "execute_result"
    }
   ],
   "source": [
    "pd.Series(index=X.columns, data=model.named_steps[\"logreg\"].coef_.ravel()) "
   ]
  },
  {
   "cell_type": "markdown",
   "metadata": {},
   "source": [
    "- Proviamo a regolarizzare sia utilizzando L1 che utilizzando L2 (elasticnet)"
   ]
  },
  {
   "cell_type": "code",
   "execution_count": 66,
   "metadata": {},
   "outputs": [],
   "source": [
    "model = Pipeline([\n",
    "    (\"scaler\", StandardScaler()),\n",
    "    (\"logreg\", LogisticRegression(solver=\"saga\", random_state=42, penalty=\"elasticnet\", C=10000, l1_ratio = 0.01))\n",
    "])"
   ]
  },
  {
   "cell_type": "code",
   "execution_count": 67,
   "metadata": {},
   "outputs": [
    {
     "name": "stderr",
     "output_type": "stream",
     "text": [
      "C:\\Users\\Mattia\\anaconda3\\envs\\deeplearn\\lib\\site-packages\\sklearn\\linear_model\\_sag.py:330: ConvergenceWarning: The max_iter was reached which means the coef_ did not converge\n",
      "  \"the coef_ did not converge\", ConvergenceWarning)\n"
     ]
    },
    {
     "data": {
      "text/plain": [
       "Pipeline(memory=None,\n",
       "         steps=[('scaler',\n",
       "                 StandardScaler(copy=True, with_mean=True, with_std=True)),\n",
       "                ('logreg',\n",
       "                 LogisticRegression(C=10000, class_weight=None, dual=False,\n",
       "                                    fit_intercept=True, intercept_scaling=1,\n",
       "                                    l1_ratio=0.01, max_iter=100,\n",
       "                                    multi_class='auto', n_jobs=None,\n",
       "                                    penalty='elasticnet', random_state=42,\n",
       "                                    solver='saga', tol=0.0001, verbose=0,\n",
       "                                    warm_start=False))],\n",
       "         verbose=False)"
      ]
     },
     "execution_count": 67,
     "metadata": {},
     "output_type": "execute_result"
    }
   ],
   "source": [
    "model.fit(X_train, y_train)"
   ]
  },
  {
   "cell_type": "markdown",
   "metadata": {},
   "source": [
    "- Accuratezza uguale al modello con regolarizzazione L2"
   ]
  },
  {
   "cell_type": "code",
   "execution_count": 68,
   "metadata": {},
   "outputs": [
    {
     "data": {
      "text/plain": [
       "0.9890829694323144"
      ]
     },
     "execution_count": 68,
     "metadata": {},
     "output_type": "execute_result"
    }
   ],
   "source": [
    "model.score(X_val, y_val)"
   ]
  },
  {
   "cell_type": "markdown",
   "metadata": {},
   "source": [
    "## K-cross validation e Grid search"
   ]
  },
  {
   "cell_type": "markdown",
   "metadata": {},
   "source": [
    "- Ora che abbiamo visto diversi modelli possiamo utilizzare la k-cross validation insieme alla grid search per trovare gli iperparametri migliori dato un modello iniziale"
   ]
  },
  {
   "cell_type": "markdown",
   "metadata": {},
   "source": [
    "- Per dividere i fold utilizzo la StratifiedKFold per dividere i dati nelle due classi equamente"
   ]
  },
  {
   "cell_type": "code",
   "execution_count": 69,
   "metadata": {},
   "outputs": [],
   "source": [
    "from sklearn.model_selection import KFold, StratifiedKFold, GridSearchCV\n",
    "outer_cv_skf = StratifiedKFold(3, shuffle=True, random_state=42) #Esterna in 3 fold\n",
    "inner_cv_skf = StratifiedKFold(5, shuffle=True, random_state=42) #Interna in 5 fold"
   ]
  },
  {
   "cell_type": "markdown",
   "metadata": {},
   "source": [
    "- Impostiamo il modello base e la griglia di iperparametri che la GridSearch utilizzerà\n",
    "- Il modello base comprende la standardizzazione, LogisticRegression e in aggiunta proviamo ad inserire una PolynomialFeatures"
   ]
  },
  {
   "cell_type": "code",
   "execution_count": 70,
   "metadata": {},
   "outputs": [],
   "source": [
    "model = Pipeline([\n",
    "    (\"scaler\", StandardScaler()),\n",
    "    (\"poly\", PolynomialFeatures(include_bias=False)),\n",
    "    (\"logreg\", LogisticRegression(solver=\"saga\", random_state=42))\n",
    "])"
   ]
  },
  {
   "cell_type": "markdown",
   "metadata": {},
   "source": [
    "- Scomponiamo i casi da provare in due griglie:\n",
    " - La prima con L1 e L2 e i diversi gradi ha 4 x 2 x 3 = 24 casi possibili\n",
    " - La seconda ha 4 x 1 x 3 x 2 = 24 casi possibili"
   ]
  },
  {
   "cell_type": "code",
   "execution_count": 71,
   "metadata": {},
   "outputs": [],
   "source": [
    "grid = [\n",
    "    {\n",
    "        \"poly__degree\": [2, 3, 4, 5],\n",
    "        \"logreg__penalty\": [\"l2\", \"l1\"],\n",
    "        \"logreg__C\": [0.1, 1, 10]\n",
    "    },\n",
    "    {\n",
    "        \"poly__degree\": [2, 3, 4, 5],\n",
    "        \"logreg__penalty\": [\"elasticnet\"],\n",
    "        \"logreg__C\": [0.1, 1, 10],\n",
    "        \"logreg__l1_ratio\": [0.2, 0.5]\n",
    "    }\n",
    "]"
   ]
  },
  {
   "cell_type": "markdown",
   "metadata": {},
   "source": [
    "- Utilizziamo la nested cross-validation per generare k fold \"esterni\" su tutti i dati disponibili e che per ciascuno si esegua il tuning degli iperparametri con una cross validation \"interna\" usando le parti di training dei fold esterni\n",
    "- Creiamo una funzione che itera sui dati nel fold esterno e applica la grid search su quelli di fold interno"
   ]
  },
  {
   "cell_type": "code",
   "execution_count": 72,
   "metadata": {},
   "outputs": [],
   "source": [
    "import warnings #Per togliere i warning\n",
    "warnings.filterwarnings(\"ignore\")  \n",
    "\n",
    "def nested_cv(model, grid):\n",
    "    results = []\n",
    "    gss = []\n",
    "    for train_indices, val_indices in outer_cv_skf.split(X, y):\n",
    "        X_train = X.iloc[train_indices]\n",
    "        y_train = y.iloc[train_indices]\n",
    "        X_val = X.iloc[val_indices]\n",
    "        y_val = y.iloc[val_indices]\n",
    "        gs = GridSearchCV(model, grid, cv=inner_cv_skf)\n",
    "        gs.fit(X_train, y_train)\n",
    "        gss.append(gs)\n",
    "        results.append(gs.score(X_val, y_val))\n",
    "    index = np.argmax(results) #Prendo la grid search che ha trovato gli iperparametri migliori\n",
    "    return results, gss[index]"
   ]
  },
  {
   "cell_type": "markdown",
   "metadata": {},
   "source": [
    "- Ora applichiamola al nostro modello, seleziono poi il modello con accuratezza migliore"
   ]
  },
  {
   "cell_type": "code",
   "execution_count": 73,
   "metadata": {},
   "outputs": [
    {
     "data": {
      "text/plain": [
       "[0.9956331877729258, 0.9890590809628009, 0.9956236323851203]"
      ]
     },
     "execution_count": 73,
     "metadata": {},
     "output_type": "execute_result"
    }
   ],
   "source": [
    "res, gs = nested_cv(model, grid)\n",
    "res"
   ]
  },
  {
   "cell_type": "markdown",
   "metadata": {},
   "source": [
    "- Visualizziamo i migliori iperparametri trovati dalla grid search"
   ]
  },
  {
   "cell_type": "code",
   "execution_count": 74,
   "metadata": {},
   "outputs": [
    {
     "data": {
      "text/plain": [
       "{'logreg__C': 1, 'logreg__penalty': 'l2', 'poly__degree': 2}"
      ]
     },
     "execution_count": 74,
     "metadata": {},
     "output_type": "execute_result"
    }
   ],
   "source": [
    "gs.best_params_"
   ]
  },
  {
   "cell_type": "markdown",
   "metadata": {},
   "source": [
    "- Mostriamo i risultati in un DataFrame per visualizzarli meglio\n",
    " - Il miglior risultato ottenuto è vicino al 100%"
   ]
  },
  {
   "cell_type": "code",
   "execution_count": 109,
   "metadata": {
    "scrolled": false
   },
   "outputs": [
    {
     "data": {
      "text/html": [
       "<div>\n",
       "<style scoped>\n",
       "    .dataframe tbody tr th:only-of-type {\n",
       "        vertical-align: middle;\n",
       "    }\n",
       "\n",
       "    .dataframe tbody tr th {\n",
       "        vertical-align: top;\n",
       "    }\n",
       "\n",
       "    .dataframe thead th {\n",
       "        text-align: right;\n",
       "    }\n",
       "</style>\n",
       "<table border=\"1\" class=\"dataframe\">\n",
       "  <thead>\n",
       "    <tr style=\"text-align: right;\">\n",
       "      <th></th>\n",
       "      <th>mean_fit_time</th>\n",
       "      <th>std_fit_time</th>\n",
       "      <th>mean_score_time</th>\n",
       "      <th>std_score_time</th>\n",
       "      <th>param_logreg__C</th>\n",
       "      <th>param_logreg__penalty</th>\n",
       "      <th>param_poly__degree</th>\n",
       "      <th>param_logreg__l1_ratio</th>\n",
       "      <th>params</th>\n",
       "      <th>split0_test_score</th>\n",
       "      <th>split1_test_score</th>\n",
       "      <th>split2_test_score</th>\n",
       "      <th>split3_test_score</th>\n",
       "      <th>split4_test_score</th>\n",
       "      <th>mean_test_score</th>\n",
       "      <th>std_test_score</th>\n",
       "      <th>rank_test_score</th>\n",
       "    </tr>\n",
       "  </thead>\n",
       "  <tbody>\n",
       "    <tr>\n",
       "      <th>8</th>\n",
       "      <td>0.011334</td>\n",
       "      <td>0.001003</td>\n",
       "      <td>0.001609</td>\n",
       "      <td>0.003217</td>\n",
       "      <td>1</td>\n",
       "      <td>l2</td>\n",
       "      <td>2</td>\n",
       "      <td>NaN</td>\n",
       "      <td>{'logreg__C': 1, 'logreg__penalty': 'l2', 'pol...</td>\n",
       "      <td>1.0</td>\n",
       "      <td>1.000000</td>\n",
       "      <td>1.000000</td>\n",
       "      <td>0.983607</td>\n",
       "      <td>0.989011</td>\n",
       "      <td>0.994524</td>\n",
       "      <td>0.006922</td>\n",
       "      <td>1</td>\n",
       "    </tr>\n",
       "    <tr>\n",
       "      <th>20</th>\n",
       "      <td>0.020636</td>\n",
       "      <td>0.005806</td>\n",
       "      <td>0.001608</td>\n",
       "      <td>0.003216</td>\n",
       "      <td>10</td>\n",
       "      <td>l1</td>\n",
       "      <td>2</td>\n",
       "      <td>NaN</td>\n",
       "      <td>{'logreg__C': 10, 'logreg__penalty': 'l1', 'po...</td>\n",
       "      <td>1.0</td>\n",
       "      <td>1.000000</td>\n",
       "      <td>1.000000</td>\n",
       "      <td>0.983607</td>\n",
       "      <td>0.989011</td>\n",
       "      <td>0.994524</td>\n",
       "      <td>0.006922</td>\n",
       "      <td>1</td>\n",
       "    </tr>\n",
       "    <tr>\n",
       "      <th>12</th>\n",
       "      <td>0.020128</td>\n",
       "      <td>0.008660</td>\n",
       "      <td>0.002008</td>\n",
       "      <td>0.003107</td>\n",
       "      <td>1</td>\n",
       "      <td>l1</td>\n",
       "      <td>2</td>\n",
       "      <td>NaN</td>\n",
       "      <td>{'logreg__C': 1, 'logreg__penalty': 'l1', 'pol...</td>\n",
       "      <td>1.0</td>\n",
       "      <td>1.000000</td>\n",
       "      <td>1.000000</td>\n",
       "      <td>0.983607</td>\n",
       "      <td>0.989011</td>\n",
       "      <td>0.994524</td>\n",
       "      <td>0.006922</td>\n",
       "      <td>1</td>\n",
       "    </tr>\n",
       "    <tr>\n",
       "      <th>40</th>\n",
       "      <td>0.021947</td>\n",
       "      <td>0.004118</td>\n",
       "      <td>0.001591</td>\n",
       "      <td>0.000484</td>\n",
       "      <td>10</td>\n",
       "      <td>elasticnet</td>\n",
       "      <td>2</td>\n",
       "      <td>0.2</td>\n",
       "      <td>{'logreg__C': 10, 'logreg__l1_ratio': 0.2, 'lo...</td>\n",
       "      <td>1.0</td>\n",
       "      <td>1.000000</td>\n",
       "      <td>1.000000</td>\n",
       "      <td>0.983607</td>\n",
       "      <td>0.989011</td>\n",
       "      <td>0.994524</td>\n",
       "      <td>0.006922</td>\n",
       "      <td>1</td>\n",
       "    </tr>\n",
       "    <tr>\n",
       "      <th>16</th>\n",
       "      <td>0.013211</td>\n",
       "      <td>0.002036</td>\n",
       "      <td>0.000803</td>\n",
       "      <td>0.000754</td>\n",
       "      <td>10</td>\n",
       "      <td>l2</td>\n",
       "      <td>2</td>\n",
       "      <td>NaN</td>\n",
       "      <td>{'logreg__C': 10, 'logreg__penalty': 'l2', 'po...</td>\n",
       "      <td>1.0</td>\n",
       "      <td>1.000000</td>\n",
       "      <td>1.000000</td>\n",
       "      <td>0.983607</td>\n",
       "      <td>0.989011</td>\n",
       "      <td>0.994524</td>\n",
       "      <td>0.006922</td>\n",
       "      <td>1</td>\n",
       "    </tr>\n",
       "    <tr>\n",
       "      <th>44</th>\n",
       "      <td>0.027525</td>\n",
       "      <td>0.004576</td>\n",
       "      <td>0.001398</td>\n",
       "      <td>0.000491</td>\n",
       "      <td>10</td>\n",
       "      <td>elasticnet</td>\n",
       "      <td>2</td>\n",
       "      <td>0.5</td>\n",
       "      <td>{'logreg__C': 10, 'logreg__l1_ratio': 0.5, 'lo...</td>\n",
       "      <td>1.0</td>\n",
       "      <td>1.000000</td>\n",
       "      <td>1.000000</td>\n",
       "      <td>0.983607</td>\n",
       "      <td>0.989011</td>\n",
       "      <td>0.994524</td>\n",
       "      <td>0.006922</td>\n",
       "      <td>1</td>\n",
       "    </tr>\n",
       "    <tr>\n",
       "      <th>36</th>\n",
       "      <td>0.028923</td>\n",
       "      <td>0.002275</td>\n",
       "      <td>0.001397</td>\n",
       "      <td>0.000489</td>\n",
       "      <td>1</td>\n",
       "      <td>elasticnet</td>\n",
       "      <td>2</td>\n",
       "      <td>0.5</td>\n",
       "      <td>{'logreg__C': 1, 'logreg__l1_ratio': 0.5, 'log...</td>\n",
       "      <td>1.0</td>\n",
       "      <td>1.000000</td>\n",
       "      <td>1.000000</td>\n",
       "      <td>0.983607</td>\n",
       "      <td>0.989011</td>\n",
       "      <td>0.994524</td>\n",
       "      <td>0.006922</td>\n",
       "      <td>1</td>\n",
       "    </tr>\n",
       "    <tr>\n",
       "      <th>32</th>\n",
       "      <td>0.030518</td>\n",
       "      <td>0.007793</td>\n",
       "      <td>0.001799</td>\n",
       "      <td>0.001164</td>\n",
       "      <td>1</td>\n",
       "      <td>elasticnet</td>\n",
       "      <td>2</td>\n",
       "      <td>0.2</td>\n",
       "      <td>{'logreg__C': 1, 'logreg__l1_ratio': 0.2, 'log...</td>\n",
       "      <td>1.0</td>\n",
       "      <td>1.000000</td>\n",
       "      <td>1.000000</td>\n",
       "      <td>0.983607</td>\n",
       "      <td>0.989011</td>\n",
       "      <td>0.994524</td>\n",
       "      <td>0.006922</td>\n",
       "      <td>1</td>\n",
       "    </tr>\n",
       "    <tr>\n",
       "      <th>0</th>\n",
       "      <td>0.013357</td>\n",
       "      <td>0.000495</td>\n",
       "      <td>0.001598</td>\n",
       "      <td>0.000482</td>\n",
       "      <td>0.1</td>\n",
       "      <td>l2</td>\n",
       "      <td>2</td>\n",
       "      <td>NaN</td>\n",
       "      <td>{'logreg__C': 0.1, 'logreg__penalty': 'l2', 'p...</td>\n",
       "      <td>1.0</td>\n",
       "      <td>0.989071</td>\n",
       "      <td>0.994536</td>\n",
       "      <td>0.983607</td>\n",
       "      <td>0.983516</td>\n",
       "      <td>0.990146</td>\n",
       "      <td>0.006391</td>\n",
       "      <td>9</td>\n",
       "    </tr>\n",
       "    <tr>\n",
       "      <th>24</th>\n",
       "      <td>0.020607</td>\n",
       "      <td>0.006564</td>\n",
       "      <td>0.001636</td>\n",
       "      <td>0.003272</td>\n",
       "      <td>0.1</td>\n",
       "      <td>elasticnet</td>\n",
       "      <td>2</td>\n",
       "      <td>0.2</td>\n",
       "      <td>{'logreg__C': 0.1, 'logreg__l1_ratio': 0.2, 'l...</td>\n",
       "      <td>1.0</td>\n",
       "      <td>0.989071</td>\n",
       "      <td>0.994536</td>\n",
       "      <td>0.983607</td>\n",
       "      <td>0.967033</td>\n",
       "      <td>0.986849</td>\n",
       "      <td>0.011315</td>\n",
       "      <td>10</td>\n",
       "    </tr>\n",
       "  </tbody>\n",
       "</table>\n",
       "</div>"
      ],
      "text/plain": [
       "    mean_fit_time  std_fit_time  mean_score_time  std_score_time  \\\n",
       "8        0.011334      0.001003         0.001609        0.003217   \n",
       "20       0.020636      0.005806         0.001608        0.003216   \n",
       "12       0.020128      0.008660         0.002008        0.003107   \n",
       "40       0.021947      0.004118         0.001591        0.000484   \n",
       "16       0.013211      0.002036         0.000803        0.000754   \n",
       "44       0.027525      0.004576         0.001398        0.000491   \n",
       "36       0.028923      0.002275         0.001397        0.000489   \n",
       "32       0.030518      0.007793         0.001799        0.001164   \n",
       "0        0.013357      0.000495         0.001598        0.000482   \n",
       "24       0.020607      0.006564         0.001636        0.003272   \n",
       "\n",
       "   param_logreg__C param_logreg__penalty param_poly__degree  \\\n",
       "8                1                    l2                  2   \n",
       "20              10                    l1                  2   \n",
       "12               1                    l1                  2   \n",
       "40              10            elasticnet                  2   \n",
       "16              10                    l2                  2   \n",
       "44              10            elasticnet                  2   \n",
       "36               1            elasticnet                  2   \n",
       "32               1            elasticnet                  2   \n",
       "0              0.1                    l2                  2   \n",
       "24             0.1            elasticnet                  2   \n",
       "\n",
       "   param_logreg__l1_ratio                                             params  \\\n",
       "8                     NaN  {'logreg__C': 1, 'logreg__penalty': 'l2', 'pol...   \n",
       "20                    NaN  {'logreg__C': 10, 'logreg__penalty': 'l1', 'po...   \n",
       "12                    NaN  {'logreg__C': 1, 'logreg__penalty': 'l1', 'pol...   \n",
       "40                    0.2  {'logreg__C': 10, 'logreg__l1_ratio': 0.2, 'lo...   \n",
       "16                    NaN  {'logreg__C': 10, 'logreg__penalty': 'l2', 'po...   \n",
       "44                    0.5  {'logreg__C': 10, 'logreg__l1_ratio': 0.5, 'lo...   \n",
       "36                    0.5  {'logreg__C': 1, 'logreg__l1_ratio': 0.5, 'log...   \n",
       "32                    0.2  {'logreg__C': 1, 'logreg__l1_ratio': 0.2, 'log...   \n",
       "0                     NaN  {'logreg__C': 0.1, 'logreg__penalty': 'l2', 'p...   \n",
       "24                    0.2  {'logreg__C': 0.1, 'logreg__l1_ratio': 0.2, 'l...   \n",
       "\n",
       "    split0_test_score  split1_test_score  split2_test_score  \\\n",
       "8                 1.0           1.000000           1.000000   \n",
       "20                1.0           1.000000           1.000000   \n",
       "12                1.0           1.000000           1.000000   \n",
       "40                1.0           1.000000           1.000000   \n",
       "16                1.0           1.000000           1.000000   \n",
       "44                1.0           1.000000           1.000000   \n",
       "36                1.0           1.000000           1.000000   \n",
       "32                1.0           1.000000           1.000000   \n",
       "0                 1.0           0.989071           0.994536   \n",
       "24                1.0           0.989071           0.994536   \n",
       "\n",
       "    split3_test_score  split4_test_score  mean_test_score  std_test_score  \\\n",
       "8            0.983607           0.989011         0.994524        0.006922   \n",
       "20           0.983607           0.989011         0.994524        0.006922   \n",
       "12           0.983607           0.989011         0.994524        0.006922   \n",
       "40           0.983607           0.989011         0.994524        0.006922   \n",
       "16           0.983607           0.989011         0.994524        0.006922   \n",
       "44           0.983607           0.989011         0.994524        0.006922   \n",
       "36           0.983607           0.989011         0.994524        0.006922   \n",
       "32           0.983607           0.989011         0.994524        0.006922   \n",
       "0            0.983607           0.983516         0.990146        0.006391   \n",
       "24           0.983607           0.967033         0.986849        0.011315   \n",
       "\n",
       "    rank_test_score  \n",
       "8                 1  \n",
       "20                1  \n",
       "12                1  \n",
       "40                1  \n",
       "16                1  \n",
       "44                1  \n",
       "36                1  \n",
       "32                1  \n",
       "0                 9  \n",
       "24               10  "
      ]
     },
     "execution_count": 109,
     "metadata": {},
     "output_type": "execute_result"
    }
   ],
   "source": [
    "results = pd.DataFrame(gs.cv_results_).sort_values(\"rank_test_score\").head(10) #Ordina per risultato migliore\n",
    "results"
   ]
  },
  {
   "cell_type": "markdown",
   "metadata": {},
   "source": [
    "- Misuriamo le solite metriche sul modello migliore trovato dalla Grid Search"
   ]
  },
  {
   "cell_type": "code",
   "execution_count": 110,
   "metadata": {},
   "outputs": [
    {
     "data": {
      "text/html": [
       "<div>\n",
       "<style scoped>\n",
       "    .dataframe tbody tr th:only-of-type {\n",
       "        vertical-align: middle;\n",
       "    }\n",
       "\n",
       "    .dataframe tbody tr th {\n",
       "        vertical-align: top;\n",
       "    }\n",
       "\n",
       "    .dataframe thead th {\n",
       "        text-align: right;\n",
       "    }\n",
       "</style>\n",
       "<table border=\"1\" class=\"dataframe\">\n",
       "  <thead>\n",
       "    <tr style=\"text-align: right;\">\n",
       "      <th></th>\n",
       "      <th>0</th>\n",
       "      <th>1</th>\n",
       "    </tr>\n",
       "  </thead>\n",
       "  <tbody>\n",
       "    <tr>\n",
       "      <th>0</th>\n",
       "      <td>259</td>\n",
       "      <td>0</td>\n",
       "    </tr>\n",
       "    <tr>\n",
       "      <th>1</th>\n",
       "      <td>0</td>\n",
       "      <td>199</td>\n",
       "    </tr>\n",
       "  </tbody>\n",
       "</table>\n",
       "</div>"
      ],
      "text/plain": [
       "     0    1\n",
       "0  259    0\n",
       "1    0  199"
      ]
     },
     "execution_count": 110,
     "metadata": {},
     "output_type": "execute_result"
    }
   ],
   "source": [
    "cm = confusion_matrix(y_val, y_pred)\n",
    "pd.DataFrame(cm, columns = gs.classes_, index = gs.classes_) #Matrice di confusione"
   ]
  },
  {
   "cell_type": "markdown",
   "metadata": {},
   "source": [
    "- Ora misuriamo precision, recall e f1 score"
   ]
  },
  {
   "cell_type": "code",
   "execution_count": 111,
   "metadata": {},
   "outputs": [],
   "source": [
    "y_pred = gs.predict(X_val) #Prima facciamo le predizioni"
   ]
  },
  {
   "cell_type": "code",
   "execution_count": 112,
   "metadata": {},
   "outputs": [
    {
     "data": {
      "text/plain": [
       "array([1., 1.])"
      ]
     },
     "execution_count": 112,
     "metadata": {},
     "output_type": "execute_result"
    }
   ],
   "source": [
    "precision_score(y_val, y_pred, average = None)"
   ]
  },
  {
   "cell_type": "code",
   "execution_count": 113,
   "metadata": {},
   "outputs": [
    {
     "data": {
      "text/plain": [
       "array([1., 1.])"
      ]
     },
     "execution_count": 113,
     "metadata": {},
     "output_type": "execute_result"
    }
   ],
   "source": [
    "recall_score(y_val, y_pred, average = None)"
   ]
  },
  {
   "cell_type": "code",
   "execution_count": 114,
   "metadata": {},
   "outputs": [
    {
     "data": {
      "text/plain": [
       "array([1., 1.])"
      ]
     },
     "execution_count": 114,
     "metadata": {},
     "output_type": "execute_result"
    }
   ],
   "source": [
    "f1_score(y_val, y_pred, average = None)"
   ]
  },
  {
   "cell_type": "markdown",
   "metadata": {},
   "source": [
    "- Prima di procedere proviamo a creare un modello casuale che fa delle predizioni casuali"
   ]
  },
  {
   "cell_type": "code",
   "execution_count": 115,
   "metadata": {},
   "outputs": [],
   "source": [
    "import random\n",
    "random.seed(12345)\n",
    "\n",
    "def random_prediction(data):\n",
    "    return [random.randint(0,1) for n in range(data.shape[0])]"
   ]
  },
  {
   "cell_type": "markdown",
   "metadata": {},
   "source": [
    "- Predizioni random e reali"
   ]
  },
  {
   "cell_type": "code",
   "execution_count": 116,
   "metadata": {},
   "outputs": [],
   "source": [
    "random_prediction = random_prediction(X_val)\n",
    "predicted = gs.predict(X_val)"
   ]
  },
  {
   "cell_type": "markdown",
   "metadata": {},
   "source": [
    "- Ne calcoliamo l'accuratezza"
   ]
  },
  {
   "cell_type": "code",
   "execution_count": 117,
   "metadata": {},
   "outputs": [
    {
     "data": {
      "text/plain": [
       "0.5"
      ]
     },
     "execution_count": 117,
     "metadata": {},
     "output_type": "execute_result"
    }
   ],
   "source": [
    "count = 0\n",
    "for i in range(X_val.shape[0]):\n",
    "    if random_prediction[i] == predicted[i]:\n",
    "        count = count + 1\n",
    "accuracy_random = count / X_val.shape[0]\n",
    "accuracy_random #Intorno al 50%"
   ]
  },
  {
   "cell_type": "markdown",
   "metadata": {},
   "source": [
    "- Visualizziamo le solite metriche"
   ]
  },
  {
   "cell_type": "code",
   "execution_count": 118,
   "metadata": {},
   "outputs": [
    {
     "data": {
      "text/html": [
       "<div>\n",
       "<style scoped>\n",
       "    .dataframe tbody tr th:only-of-type {\n",
       "        vertical-align: middle;\n",
       "    }\n",
       "\n",
       "    .dataframe tbody tr th {\n",
       "        vertical-align: top;\n",
       "    }\n",
       "\n",
       "    .dataframe thead th {\n",
       "        text-align: right;\n",
       "    }\n",
       "</style>\n",
       "<table border=\"1\" class=\"dataframe\">\n",
       "  <thead>\n",
       "    <tr style=\"text-align: right;\">\n",
       "      <th></th>\n",
       "      <th>0</th>\n",
       "      <th>1</th>\n",
       "    </tr>\n",
       "  </thead>\n",
       "  <tbody>\n",
       "    <tr>\n",
       "      <th>0</th>\n",
       "      <td>137</td>\n",
       "      <td>122</td>\n",
       "    </tr>\n",
       "    <tr>\n",
       "      <th>1</th>\n",
       "      <td>107</td>\n",
       "      <td>92</td>\n",
       "    </tr>\n",
       "  </tbody>\n",
       "</table>\n",
       "</div>"
      ],
      "text/plain": [
       "     0    1\n",
       "0  137  122\n",
       "1  107   92"
      ]
     },
     "execution_count": 118,
     "metadata": {},
     "output_type": "execute_result"
    }
   ],
   "source": [
    "cm = confusion_matrix(y_val, random_prediction)\n",
    "pd.DataFrame(cm, columns = gs.classes_, index = gs.classes_) #Matrice di confusione"
   ]
  },
  {
   "cell_type": "code",
   "execution_count": 119,
   "metadata": {},
   "outputs": [
    {
     "data": {
      "text/plain": [
       "array([0.56147541, 0.42990654])"
      ]
     },
     "execution_count": 119,
     "metadata": {},
     "output_type": "execute_result"
    }
   ],
   "source": [
    "precision_score(y_val, random_prediction, average = None)"
   ]
  },
  {
   "cell_type": "code",
   "execution_count": 120,
   "metadata": {},
   "outputs": [
    {
     "data": {
      "text/plain": [
       "array([0.52895753, 0.46231156])"
      ]
     },
     "execution_count": 120,
     "metadata": {},
     "output_type": "execute_result"
    }
   ],
   "source": [
    "recall_score(y_val, random_prediction, average = None)"
   ]
  },
  {
   "cell_type": "code",
   "execution_count": 121,
   "metadata": {},
   "outputs": [
    {
     "data": {
      "text/plain": [
       "array([0.54473161, 0.44552058])"
      ]
     },
     "execution_count": 121,
     "metadata": {},
     "output_type": "execute_result"
    }
   ],
   "source": [
    "f1_score(y_val, random_prediction, average = None)"
   ]
  },
  {
   "cell_type": "markdown",
   "metadata": {},
   "source": [
    "## Valutazione di modelli con calcolo degli intervalli di confidenza fissata la confidenza del 95%"
   ]
  },
  {
   "cell_type": "markdown",
   "metadata": {},
   "source": [
    "- Ora confrontiamo i modelli:\n",
    "    - Prendo il miglior modello trovato dalla grid search, un altro modello tra quelli testati sopra e il modello che effettua predizioni casuali"
   ]
  },
  {
   "cell_type": "code",
   "execution_count": 122,
   "metadata": {},
   "outputs": [
    {
     "data": {
      "text/plain": [
       "Pipeline(memory=None,\n",
       "         steps=[('scaler',\n",
       "                 StandardScaler(copy=True, with_mean=True, with_std=True)),\n",
       "                ('logreg',\n",
       "                 LogisticRegression(C=0.01, class_weight=None, dual=False,\n",
       "                                    fit_intercept=True, intercept_scaling=1,\n",
       "                                    l1_ratio=None, max_iter=100,\n",
       "                                    multi_class='auto', n_jobs=None,\n",
       "                                    penalty='l1', random_state=42,\n",
       "                                    solver='saga', tol=0.0001, verbose=0,\n",
       "                                    warm_start=False))],\n",
       "         verbose=False)"
      ]
     },
     "execution_count": 122,
     "metadata": {},
     "output_type": "execute_result"
    }
   ],
   "source": [
    "from sklearn.linear_model import LogisticRegression\n",
    "model = Pipeline([\n",
    "    (\"scaler\", StandardScaler()),\n",
    "    (\"logreg\", LogisticRegression(solver=\"saga\", random_state=42, penalty=\"l1\", C=0.01)) \n",
    "])\n",
    "model.fit(X_train, y_train)"
   ]
  },
  {
   "cell_type": "markdown",
   "metadata": {},
   "source": [
    "- L'accuratezza di questo modello era la seguente"
   ]
  },
  {
   "cell_type": "code",
   "execution_count": 123,
   "metadata": {},
   "outputs": [
    {
     "data": {
      "text/plain": [
       "0.8493449781659389"
      ]
     },
     "execution_count": 123,
     "metadata": {},
     "output_type": "execute_result"
    }
   ],
   "source": [
    "model.score(X_val, y_val)"
   ]
  },
  {
   "cell_type": "markdown",
   "metadata": {},
   "source": [
    "- Vediamo l'intervallo di confidenza dei modelli"
   ]
  },
  {
   "cell_type": "code",
   "execution_count": 124,
   "metadata": {},
   "outputs": [],
   "source": [
    "def conf_interval(a, N, Z=1.96): # 1 - 𝛼 = 0.95 (𝛼=0.05), Z = 1.96\n",
    "    c = (2 * N * a + Z**2) / (2 * (N + Z**2))\n",
    "    d = Z * np.sqrt(Z**2 + 4*N*a - 4*N*a**2) / (2 * (N + Z**2))\n",
    "    return c - d, c + d"
   ]
  },
  {
   "cell_type": "code",
   "execution_count": 125,
   "metadata": {},
   "outputs": [],
   "source": [
    "from scipy.stats import norm\n",
    "\n",
    "def model_conf_interval(model, X, y, level=0.95):\n",
    "    a = model if type(model) == float else model.score(X, y)\n",
    "    N = len(X)\n",
    "    Z = norm.ppf((1 + level) / 2)\n",
    "    return conf_interval(a, N, Z)"
   ]
  },
  {
   "cell_type": "markdown",
   "metadata": {},
   "source": [
    "- Per il modello trovato dalla grid search"
   ]
  },
  {
   "cell_type": "code",
   "execution_count": 126,
   "metadata": {},
   "outputs": [
    {
     "data": {
      "text/plain": [
       "(0.9916822997430693, 0.9999999999999999)"
      ]
     },
     "execution_count": 126,
     "metadata": {},
     "output_type": "execute_result"
    }
   ],
   "source": [
    "model_conf_interval(gs, X_val, y_val)"
   ]
  },
  {
   "cell_type": "markdown",
   "metadata": {},
   "source": [
    "- Per il modello casuale"
   ]
  },
  {
   "cell_type": "code",
   "execution_count": 127,
   "metadata": {},
   "outputs": [
    {
     "data": {
      "text/plain": [
       "(0.4543992865819769, 0.5456007134180231)"
      ]
     },
     "execution_count": 127,
     "metadata": {},
     "output_type": "execute_result"
    }
   ],
   "source": [
    "model_conf_interval(accuracy_random, X_val, y_val)"
   ]
  },
  {
   "cell_type": "markdown",
   "metadata": {},
   "source": [
    "- Per il modello definito sopra"
   ]
  },
  {
   "cell_type": "code",
   "execution_count": 128,
   "metadata": {},
   "outputs": [
    {
     "data": {
      "text/plain": [
       "(0.8136862105552716, 0.8791922521473097)"
      ]
     },
     "execution_count": 128,
     "metadata": {},
     "output_type": "execute_result"
    }
   ],
   "source": [
    "model_conf_interval(model, X_val, y_val) "
   ]
  },
  {
   "cell_type": "markdown",
   "metadata": {},
   "source": [
    "- Già da qui si può constatare come il modello più affidabile sia quello trovato dalla GridSearch"
   ]
  },
  {
   "cell_type": "markdown",
   "metadata": {},
   "source": [
    "- Ora vediamo la differenza che c'è tra questi modelli"
   ]
  },
  {
   "cell_type": "code",
   "execution_count": 129,
   "metadata": {},
   "outputs": [],
   "source": [
    "from scipy.stats import norm\n",
    "\n",
    "def diff_interval(a1, a2, N1, N2, Z):\n",
    "    d = abs(a1 - a2)\n",
    "    sd = np.sqrt(a1 * (1-a1) / N1 + a2 * (1-a2) / N2)\n",
    "    return d - Z * sd, d + Z * sd\n",
    "\n",
    "def model_diff_interval(m1, m2, X, y, level=0.95): #Confidenza fissata al 95%\n",
    "    a1 = m1 if type(m1) == float else  m1.score(X, y)\n",
    "    a2 = m2 if type(m2) == float else m2.score(X, y)\n",
    "    \n",
    "    N1 = len(X) #In questo caso hanno gli stessi dati\n",
    "    N2 = N1\n",
    "    Z = norm.ppf((1 + level) / 2)\n",
    "    return diff_interval(a1, a2, N1, N2, Z)"
   ]
  },
  {
   "cell_type": "markdown",
   "metadata": {},
   "source": [
    "- Differenza tra modello sopra e quello della grid search, differenza abbastanza significativa"
   ]
  },
  {
   "cell_type": "code",
   "execution_count": 130,
   "metadata": {},
   "outputs": [
    {
     "data": {
      "text/plain": [
       "(0.11789462000488057, 0.18341542366324162)"
      ]
     },
     "execution_count": 130,
     "metadata": {},
     "output_type": "execute_result"
    }
   ],
   "source": [
    "model_diff_interval(model, gs, X_val, y_val) "
   ]
  },
  {
   "cell_type": "markdown",
   "metadata": {},
   "source": [
    "- Differenza tra il modello della grid search e quello casuale al 99% di condifenza, differenza molto significativa"
   ]
  },
  {
   "cell_type": "code",
   "execution_count": 131,
   "metadata": {},
   "outputs": [
    {
     "data": {
      "text/plain": [
       "(0.4398197004798157, 0.5601802995201842)"
      ]
     },
     "execution_count": 131,
     "metadata": {},
     "output_type": "execute_result"
    }
   ],
   "source": [
    "model_diff_interval(accuracy_random, gs, X_val, y_val, 0.99)"
   ]
  },
  {
   "cell_type": "markdown",
   "metadata": {},
   "source": [
    "- Tra tutti i modelli testati si può dedurre che il modello migliore sia quello ottenuto dalla Grid Search che utilizza la standardizzazione, la regolarizzazione e grado 2 del polinomio"
   ]
  },
  {
   "cell_type": "markdown",
   "metadata": {},
   "source": [
    "- Questi sono i parametri trovati dal modello migliore dalla GridSearch:\n",
    "    - Abbiamo parametri in più generati dal grado 2 del polinomio\n",
    "    - Anche qui si può visualizzare come alla varianza venga dato più peso rispetto alle altre variabili"
   ]
  },
  {
   "cell_type": "code",
   "execution_count": 132,
   "metadata": {},
   "outputs": [
    {
     "data": {
      "text/plain": [
       "variance            -4.159476\n",
       "skewness            -3.851488\n",
       "curtosis            -3.714692\n",
       "variance^2           0.570971\n",
       "variance skewness    1.374365\n",
       "variance curtosis    0.120883\n",
       "skewness^2          -0.675577\n",
       "skewness curtosis    0.413208\n",
       "curtosis^2           0.720775\n",
       "dtype: float64"
      ]
     },
     "execution_count": 132,
     "metadata": {},
     "output_type": "execute_result"
    }
   ],
   "source": [
    "pd.Series(index=gs.best_estimator_.named_steps[\"poly\"].get_feature_names([\"variance\", \"skewness\", \"curtosis\"]), data=gs.best_estimator_.named_steps[\"logreg\"].coef_.ravel())"
   ]
  },
  {
   "cell_type": "markdown",
   "metadata": {},
   "source": [
    "## Reti neurali utilizzando Keras"
   ]
  },
  {
   "cell_type": "markdown",
   "metadata": {},
   "source": [
    "- Ora proviamo ad utilizzare una rete neurale utilizzando Keras di TensorFlow\n",
    "- Importo le librerie"
   ]
  },
  {
   "cell_type": "code",
   "execution_count": 133,
   "metadata": {},
   "outputs": [],
   "source": [
    "from tensorflow import keras\n",
    "from keras.models import Sequential\n",
    "from keras.layers import Dense, Flatten"
   ]
  },
  {
   "cell_type": "markdown",
   "metadata": {},
   "source": [
    "- Creo la struttura della rete neurale "
   ]
  },
  {
   "cell_type": "code",
   "execution_count": 134,
   "metadata": {},
   "outputs": [],
   "source": [
    "model = Sequential([\n",
    "    Dense(32, activation=\"relu\", input_dim=3),\n",
    "    Dense(16, activation=\"relu\"),\n",
    "    Dense(8, activation=\"relu\"),\n",
    "    Dense(2, activation=\"softmax\") #Output 2 neuroni\n",
    "])"
   ]
  },
  {
   "cell_type": "markdown",
   "metadata": {},
   "source": [
    "- Trasforma la classe da predire da vettore a matrice utilizzando to_categorical"
   ]
  },
  {
   "cell_type": "code",
   "execution_count": 135,
   "metadata": {},
   "outputs": [],
   "source": [
    "from keras.utils import to_categorical\n",
    "yt_train = to_categorical(y_train)\n",
    "yt_val = to_categorical(y_val)"
   ]
  },
  {
   "cell_type": "code",
   "execution_count": 136,
   "metadata": {},
   "outputs": [
    {
     "data": {
      "text/plain": [
       "(array([[1., 0.],\n",
       "        [0., 1.],\n",
       "        [1., 0.],\n",
       "        [1., 0.],\n",
       "        [0., 1.]], dtype=float32),\n",
       " array([[1., 0.],\n",
       "        [1., 0.],\n",
       "        [1., 0.],\n",
       "        [1., 0.],\n",
       "        [1., 0.]], dtype=float32))"
      ]
     },
     "execution_count": 136,
     "metadata": {},
     "output_type": "execute_result"
    }
   ],
   "source": [
    "yt_train[:5], yt_val[:5]"
   ]
  },
  {
   "cell_type": "markdown",
   "metadata": {},
   "source": [
    "- Compiliamo e addestriamo la rete:\n",
    "    - Utilizzo adam come optimizer\n",
    "    - Addestro con 20 epoche "
   ]
  },
  {
   "cell_type": "code",
   "execution_count": 137,
   "metadata": {},
   "outputs": [
    {
     "name": "stdout",
     "output_type": "stream",
     "text": [
      "Train on 914 samples, validate on 458 samples\n",
      "Epoch 1/20\n",
      "914/914 [==============================] - 0s 151us/step - loss: 0.5212 - accuracy: 0.7768 - val_loss: 0.4384 - val_accuracy: 0.8122\n",
      "Epoch 2/20\n",
      "914/914 [==============================] - 0s 46us/step - loss: 0.3689 - accuracy: 0.8457 - val_loss: 0.3127 - val_accuracy: 0.8646\n",
      "Epoch 3/20\n",
      "914/914 [==============================] - 0s 48us/step - loss: 0.2548 - accuracy: 0.9190 - val_loss: 0.2049 - val_accuracy: 0.9563\n",
      "Epoch 4/20\n",
      "914/914 [==============================] - 0s 51us/step - loss: 0.1622 - accuracy: 0.9770 - val_loss: 0.1290 - val_accuracy: 0.9913\n",
      "Epoch 5/20\n",
      "914/914 [==============================] - 0s 55us/step - loss: 0.0977 - accuracy: 0.9923 - val_loss: 0.0745 - val_accuracy: 0.9913\n",
      "Epoch 6/20\n",
      "914/914 [==============================] - 0s 53us/step - loss: 0.0555 - accuracy: 0.9934 - val_loss: 0.0466 - val_accuracy: 0.9913\n",
      "Epoch 7/20\n",
      "914/914 [==============================] - 0s 50us/step - loss: 0.0358 - accuracy: 0.9934 - val_loss: 0.0329 - val_accuracy: 0.9913\n",
      "Epoch 8/20\n",
      "914/914 [==============================] - 0s 49us/step - loss: 0.0242 - accuracy: 0.9956 - val_loss: 0.0230 - val_accuracy: 0.9913\n",
      "Epoch 9/20\n",
      "914/914 [==============================] - 0s 46us/step - loss: 0.0162 - accuracy: 0.9978 - val_loss: 0.0175 - val_accuracy: 0.9934\n",
      "Epoch 10/20\n",
      "914/914 [==============================] - 0s 49us/step - loss: 0.0123 - accuracy: 0.9989 - val_loss: 0.0140 - val_accuracy: 0.9956\n",
      "Epoch 11/20\n",
      "914/914 [==============================] - 0s 50us/step - loss: 0.0092 - accuracy: 0.9989 - val_loss: 0.0112 - val_accuracy: 0.9956\n",
      "Epoch 12/20\n",
      "914/914 [==============================] - 0s 41us/step - loss: 0.0076 - accuracy: 1.0000 - val_loss: 0.0114 - val_accuracy: 0.9956\n",
      "Epoch 13/20\n",
      "914/914 [==============================] - 0s 45us/step - loss: 0.0062 - accuracy: 1.0000 - val_loss: 0.0083 - val_accuracy: 0.9978\n",
      "Epoch 14/20\n",
      "914/914 [==============================] - 0s 50us/step - loss: 0.0049 - accuracy: 1.0000 - val_loss: 0.0075 - val_accuracy: 0.9978\n",
      "Epoch 15/20\n",
      "914/914 [==============================] - 0s 44us/step - loss: 0.0040 - accuracy: 1.0000 - val_loss: 0.0059 - val_accuracy: 1.0000\n",
      "Epoch 16/20\n",
      "914/914 [==============================] - 0s 40us/step - loss: 0.0035 - accuracy: 1.0000 - val_loss: 0.0060 - val_accuracy: 1.0000\n",
      "Epoch 17/20\n",
      "914/914 [==============================] - 0s 47us/step - loss: 0.0030 - accuracy: 1.0000 - val_loss: 0.0048 - val_accuracy: 1.0000\n",
      "Epoch 18/20\n",
      "914/914 [==============================] - 0s 48us/step - loss: 0.0025 - accuracy: 1.0000 - val_loss: 0.0044 - val_accuracy: 1.0000\n",
      "Epoch 19/20\n",
      "914/914 [==============================] - 0s 44us/step - loss: 0.0022 - accuracy: 1.0000 - val_loss: 0.0039 - val_accuracy: 1.0000\n",
      "Epoch 20/20\n",
      "914/914 [==============================] - 0s 41us/step - loss: 0.0019 - accuracy: 1.0000 - val_loss: 0.0035 - val_accuracy: 1.0000\n"
     ]
    },
    {
     "data": {
      "text/plain": [
       "<keras.callbacks.callbacks.History at 0x1f52347ac08>"
      ]
     },
     "execution_count": 137,
     "metadata": {},
     "output_type": "execute_result"
    }
   ],
   "source": [
    "model.compile(optimizer=\"adam\", loss=\"categorical_crossentropy\", metrics=[\"accuracy\"])\n",
    "model.fit(X_train, yt_train, epochs = 20, validation_data = (X_val, yt_val))"
   ]
  },
  {
   "cell_type": "markdown",
   "metadata": {},
   "source": [
    "- Valutiamo il modello e otteniamo un'accuratezza circa del 100% e un errore molto basso"
   ]
  },
  {
   "cell_type": "code",
   "execution_count": 138,
   "metadata": {},
   "outputs": [
    {
     "name": "stdout",
     "output_type": "stream",
     "text": [
      "458/458 [==============================] - 0s 20us/step\n"
     ]
    },
    {
     "data": {
      "text/plain": [
       "[0.0035141769250881284, 1.0]"
      ]
     },
     "execution_count": 138,
     "metadata": {},
     "output_type": "execute_result"
    }
   ],
   "source": [
    "model.evaluate(X_val, yt_val)"
   ]
  }
 ],
 "metadata": {
  "kernelspec": {
   "display_name": "Deep learning",
   "language": "python",
   "name": "deeplearn"
  },
  "language_info": {
   "codemirror_mode": {
    "name": "ipython",
    "version": 3
   },
   "file_extension": ".py",
   "mimetype": "text/x-python",
   "name": "python",
   "nbconvert_exporter": "python",
   "pygments_lexer": "ipython3",
   "version": "3.7.6"
  }
 },
 "nbformat": 4,
 "nbformat_minor": 4
}
